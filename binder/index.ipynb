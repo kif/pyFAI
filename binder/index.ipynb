{
 "cells": [
  {
   "cell_type": "markdown",
   "metadata": {},
   "source": [
    "# [pyFAI](https://github.com/silx-kit/pyFAI) cookbooks and tutorials\n",
    "\n",
    "See the [full documentation](http://www.silx.org/doc/pyFAI/latest/) for more information."
   ]
  },
  {
   "cell_type": "markdown",
   "metadata": {},
   "source": [
    "## Cookbooks\n",
    "\n",
    "- [Integration with python](../doc/source/usage/cookbook/integration_with_python.ipynb)\n",
    "- [Integration with scripts](../doc/source/usage/cookbook/integration_with_scripts.ipynb)"
   ]
  },
  {
   "cell_type": "markdown",
   "metadata": {},
   "source": [
    "## Tutorials\n",
    "\n",
    "- [Introduction](../doc/source/usage/tutorial/Introduction/introduction.ipynb)\n",
    "- [CCD calibration](../doc/source/usage/tutorial/CCD_Calibration/CCD_calibration.ipynb)\n",
    "- [Calibrant](../doc/source/usage/tutorial/Calibrant/Calibrant.ipynb)\n",
    "- [New calibrant](../doc/source/usage/tutorial/Calibrant/new_calibrant.ipynb)\n",
    "- [Distortion](../doc/source/usage/tutorial/Distortion/Distortion.ipynb)\n",
    "- [Geometry](../doc/source/usage/tutorial/Geometry/geometry.ipynb)\n",
    "- Goniometer:\n",
    "\n",
    "  - [Rotation-Pilatus100k](../doc/source/usage/tutorial/Goniometer/Rotation-Pilatus100k/Multi120_Pilatus100k.ipynb)\n",
    "  - [Rotation-XPADS540](../doc/source/usage/tutorial/Goniometer/Rotation-XPADS540/D2AM-15.ipynb)\n",
    "  - [Translation-Pilatus6M](../doc/source/usage/tutorial/Goniometer/Translation-Pilatus6M/TTcalibration.ipynb)\n",
    "  \n",
    "- [Inpainting](../doc/source/usage/tutorial/Inpainting/Inpainting.ipynb)\n",
    "- [LogScale](../doc/source/usage/tutorial/LogScale/Guinier.ipynb)\n",
    "- [MakeCalibrant](../doc/source/usage/tutorial/MakeCalibrant/make_calibrant.ipynb)\n",
    "- [MultiGeometry](../doc/source/usage/tutorial/MultiGeometry/MultiGeometry.ipynb)\n",
    "- [Ellipse](../doc/source/usage/tutorial/Ellipse/ellipse.ipynb)\n",
    "- Soleil:\n",
    "\n",
    "  - [Cristal_Mythen](../doc/source/usage/tutorial/Soleil/Cristal_Mythen.ipynb)\n",
    "  - [Diffabs_Calibration_K6C](../doc/source/usage/tutorial/Soleil/Soleil_Diffabs_Calibration_K6C.ipynb)\n",
    "  - [Diffabs_Diffraction_Tomography](../doc/source/usage/tutorial/Soleil/Soleil_Diffabs_Diffraction_Tomography.ipynb)\n",
    "\n",
    "- Thick Detector:\n",
    "\n",
    "  - [Deconvolution](../doc/source/usage/tutorial/ThickDetector/deconvolution.ipynb)\n",
    "  - [Goniometer id28](../doc/source/usage/tutorial/ThickDetector/goniometer_id28.ipynb)\n",
    "  - [Raytracing](../doc/source/usage/tutorial/ThickDetector/raytracing.ipynb)\n",
    "\n",
    "- [Variance](../doc/source/usage/tutorial/Variance/Variance.ipynb)"
   ]
  }
 ],
 "metadata": {
  "kernelspec": {
   "display_name": "Python 3",
   "language": "python",
   "name": "python3"
  },
  "language_info": {
   "codemirror_mode": {
    "name": "ipython",
    "version": 3
   },
   "file_extension": ".py",
   "mimetype": "text/x-python",
   "name": "python",
   "nbconvert_exporter": "python",
   "pygments_lexer": "ipython3",
   "version": "3.4.2"
  }
 },
 "nbformat": 4,
 "nbformat_minor": 2
}
