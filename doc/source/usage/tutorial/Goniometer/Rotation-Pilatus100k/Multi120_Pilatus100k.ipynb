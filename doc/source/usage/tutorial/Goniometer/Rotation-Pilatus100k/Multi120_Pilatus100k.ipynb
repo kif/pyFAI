{
 "cells": [
  {
   "cell_type": "markdown",
   "metadata": {},
   "source": [
    "# Calibration of a 2 theta arm with a Pilatus 100k detector\n",
    "\n",
    "The aim of this document is to explain how to use `pyFAI.goniometer` for calibrating the position of the detector from the goniometer encoders.\n",
    "\n",
    "Those data have been acquired at ROBL (ESRF-BM20 German CRG) in winter 2017 by Christoph Henning using a Pilatus 100k detector and LaB6 as calibrant. One hundred and twenty one images have been acquired with the detector moving between 5 and 65 degree with a step size of half a degree. The motor position is registered in the filename.\n",
    "\n",
    "A prior manual calibration (using `pyFAI-calib`) has been performed on four images located at 31.5, 33.5, 35 and 35.5 degrees. Those images were the first with two rings. The control points extrated during this initial calibration has been used as a starting point for this calibration. Then more images have been added to make the model more robust.\n",
    "\n",
    "The raw data files are available at: http://www.silx.org/pub/pyFAI/gonio/Pilatus-100k-LaB6/\n",
    "\n",
    "## Initialization and loading of the libraries\n",
    "\n",
    "Initialization of the plotting library, matplotlib, to be used with the jupyter notebook"
   ]
  },
  {
   "cell_type": "code",
   "execution_count": null,
   "metadata": {
    "collapsed": false
   },
   "outputs": [],
   "source": [
    "%pylab nbagg"
   ]
  },
  {
   "cell_type": "code",
   "execution_count": null,
   "metadata": {
    "collapsed": false
   },
   "outputs": [],
   "source": [
    "# Loading of a few libraries\n",
    "\n",
    "import time\n",
    "start_time = time.time()\n",
    "import os\n",
    "import glob\n",
    "import random\n",
    "import fabio\n",
    "import pyFAI\n",
    "from pyFAI.goniometer import GeometryTransformation, GoniometerRefinement, Goniometer\n",
    "from pyFAI.gui import jupyter"
   ]
  },
  {
   "cell_type": "code",
   "execution_count": null,
   "metadata": {
    "collapsed": true
   },
   "outputs": [],
   "source": [
    "# Configure data location\n",
    "DATA_DIRECTORY = \"/workspace/valls/data/goniometer/Pilatus-100k-LaB6\"\n",
    "\n",
    "# Few calibration files will be saved in the current directory (pwd)"
   ]
  },
  {
   "cell_type": "markdown",
   "metadata": {},
   "source": [
    "## Display of an image and its headers"
   ]
  },
  {
   "cell_type": "code",
   "execution_count": null,
   "metadata": {
    "collapsed": false
   },
   "outputs": [],
   "source": [
    "# Loading of the list of files, and display of the last one with its headers\n",
    "\n",
    "image_files = glob.glob(DATA_DIRECTORY + \"/*.cbf\")\n",
    "image_files.sort()\n",
    "print(\"List of images: \" + \", \".join(image_files) + \".\" + os.linesep)\n",
    "fimg = fabio.open(image_files[-1])\n",
    "\n",
    "print(\"Image headers:\")\n",
    "for key, value in  fimg.header.items():\n",
    "    print(\"%s: %s\"%(key,value))\n",
    "    \n",
    "jupyter.display(fimg.data, label=fimg.filename)"
   ]
  },
  {
   "cell_type": "markdown",
   "metadata": {},
   "source": [
    "## Definition of the geometry transformation\n",
    "\n",
    "This is the most difficult part to understand.\n",
    "\n",
    "The next cell defines 2 functions, one for transforming the geometry and the other one to read the goniometer angle from the metadata"
   ]
  },
  {
   "cell_type": "code",
   "execution_count": null,
   "metadata": {
    "collapsed": false
   },
   "outputs": [],
   "source": [
    "# Definition of the goniometer translation function:\n",
    "# The detector rotates vertically, around the horizontal axis, i.e. rot2\n",
    "\n",
    "goniotrans = GeometryTransformation(param_names = [\"dist\", \"poni1\", \"poni2\", \"rot1\",\n",
    "                                                   \"rot2_offset\", \"rot2_scale\"],\n",
    "                                    dist_expr=\"dist\", \n",
    "                                    poni1_expr=\"poni1\",\n",
    "                                    poni2_expr=\"poni2\", \n",
    "                                    rot1_expr=\"rot1\", \n",
    "                                    rot2_expr=\"rot2_scale * pos + rot2_offset\", \n",
    "                                    rot3_expr=\"0.0\")\n",
    "\n",
    "\n",
    "# Definition of the function reading the goniometer angle from the filename of the image.\n",
    "\n",
    "def get_angle(filename):\n",
    "    \"\"\"Takes the filename (like /foo/bar/del_65.0_0001p ) and returns the angle of the detector\"\"\"\n",
    "    basename = os.path.basename(filename)\n",
    "    return float(basename.split(\"_\")[1])\n",
    "\n",
    "print('filename', fimg.filename, \"angle:\",get_angle(fimg.filename))"
   ]
  },
  {
   "cell_type": "code",
   "execution_count": null,
   "metadata": {
    "collapsed": false
   },
   "outputs": [],
   "source": [
    "# Definition of the detector, its mask, the calibrant\n",
    "\n",
    "mask1 = fabio.open(DATA_DIRECTORY + \"/deviation-mask.edf\").data\n",
    "mask2 = fabio.open(DATA_DIRECTORY + \"/minimum-mask.edf\").data\n",
    "mask = numpy.logical_or(mask1, mask2)\n",
    "pilatus = pyFAI.detector_factory(\"Pilatus100k\")\n",
    "pilatus.mask = mask\n",
    "    \n",
    "LaB6 = pyFAI.calibrant.CALIBRANT_FACTORY(\"LaB6\")\n",
    "wavelength = 7.7490120575e-11\n",
    "LaB6.wavelength = wavelength"
   ]
  },
  {
   "cell_type": "code",
   "execution_count": null,
   "metadata": {
    "collapsed": false
   },
   "outputs": [],
   "source": [
    "#Definition of the geometry refinement: the parameter order is the same as the param_names\n",
    "\n",
    "param = {\"dist\":0.8, \n",
    "         \"poni1\":0.02, \n",
    "         \"poni2\":0.04, \n",
    "         \"rot1\":0,\n",
    "         \"rot2_offset\":0,\n",
    "         \"rot2_scale\": numpy.pi/180. # rot2 is in radians, while the motor position is in degrees\n",
    "        }\n",
    "#Defines the bounds for some variables\n",
    "bounds = {\"dist\": (0.79, 0.81), \n",
    "          \"rot1\": (-0.01, 0.01),\n",
    "          \"rot2_offset\": (-0.01, 0.01),\n",
    "          \"rot2_scale\": (numpy.pi/180., numpy.pi/180.) #strict bounds on the scale: we expect the gonio to be precise\n",
    "         }\n",
    "gonioref = GoniometerRefinement(param, #initial guess\n",
    "                                bounds=bounds,\n",
    "                                pos_function=get_angle,\n",
    "                                trans_function=goniotrans,\n",
    "                                detector=pilatus, wavelength=wavelength)\n",
    "print(\"Empty refinement object:\")\n",
    "print(gonioref)"
   ]
  },
  {
   "cell_type": "code",
   "execution_count": null,
   "metadata": {
    "collapsed": false
   },
   "outputs": [],
   "source": [
    "# Let's populate the goniometer refinement object with all control point files:\n",
    "\n",
    "ponis = glob.glob(DATA_DIRECTORY + \"/*.poni\")\n",
    "ponis.sort()\n",
    "for fn in ponis:\n",
    "    base = os.path.splitext(fn)[0]\n",
    "    fimg = fabio.open(base + \".cbf\")\n",
    "    sg =gonioref.new_geometry(base, image=fimg.data, metadata=base, control_points=base+\".npt\",\n",
    "                              geometry=fn, calibrant=LaB6)\n",
    "    print(base, \"Angle:\", sg.get_position())\n",
    "    print(sg.geometry_refinement)\n",
    "    print()\n",
    "    \n",
    "print(\"Filled refinement object:\")\n",
    "print(gonioref)"
   ]
  },
  {
   "cell_type": "code",
   "execution_count": null,
   "metadata": {
    "collapsed": false
   },
   "outputs": [],
   "source": [
    "# Display all images with associated calibration:\n",
    "\n",
    "for sg in gonioref.single_geometries.values():\n",
    "    jupyter.display(sg=sg)"
   ]
  },
  {
   "cell_type": "code",
   "execution_count": null,
   "metadata": {
    "collapsed": false
   },
   "outputs": [],
   "source": [
    "# Initial refinement of the goniometer model with 5 dof\n",
    "\n",
    "gonioref.refine2()"
   ]
  },
  {
   "cell_type": "code",
   "execution_count": null,
   "metadata": {
    "collapsed": true
   },
   "outputs": [],
   "source": [
    "# This function adds new images to the pool of data used for the refinement.\n",
    "# A set of new control points are extractred and a refinement step is performed at each iteration\n",
    "# The last image of the serie is displayed \n",
    "\n",
    "def optimize_with_new_images(list_images, pts_per_deg=1):\n",
    "    sg = None\n",
    "    for fname in list_images:\n",
    "        print()\n",
    "        base = os.path.splitext(fname)[0]\n",
    "        fimg = fabio.open(fname)\n",
    "        if base in gonioref.single_geometries:\n",
    "            continue\n",
    "        print(base)\n",
    "        sg = gonioref.new_geometry(base, image=fimg.data, metadata=base,\n",
    "                                   calibrant=LaB6)\n",
    "        print(sg.extract_cp(pts_per_deg=pts_per_deg))\n",
    "    print(\"*\"*50)\n",
    "    gonioref.refine2()\n",
    "    if sg: \n",
    "        sg.geometry_refinement.set_param(gonioref.get_ai(sg.get_position()).param)\n",
    "        jupyter.display(sg=sg)\n"
   ]
  },
  {
   "cell_type": "code",
   "execution_count": null,
   "metadata": {
    "collapsed": false
   },
   "outputs": [],
   "source": [
    "# Append all other images bewteen 30 and 40 degrees\n",
    "\n",
    "images_30_40 = glob.glob(DATA_DIRECTORY + \"/del_3?.?_0001p.cbf\")\n",
    "random.shuffle(images_30_40)\n",
    "optimize_with_new_images(images_30_40, pts_per_deg=3)"
   ]
  },
  {
   "cell_type": "code",
   "execution_count": null,
   "metadata": {
    "collapsed": false
   },
   "outputs": [],
   "source": [
    "# Append all other images\n",
    "\n",
    "all_images = glob.glob(DATA_DIRECTORY + \"/del_*_0001p.cbf\")\n",
    "random.shuffle(all_images)\n",
    "optimize_with_new_images(all_images)"
   ]
  },
  {
   "cell_type": "code",
   "execution_count": null,
   "metadata": {
    "collapsed": false
   },
   "outputs": [],
   "source": [
    "# Check the calibration of the first and the last image with rings\n",
    "\n",
    "print(\"First & last rings\")\n",
    "\n",
    "print(\"Total number of images:\", len(gonioref.single_geometries) )\n",
    "\n",
    "fig = plt.figure()\n",
    "for idx,lbl in enumerate([DATA_DIRECTORY + \"/del_10.0_0001p\", DATA_DIRECTORY + \"/del_65.0_0001p\"]):\n",
    "    sg = gonioref.single_geometries[lbl]\n",
    "    if sg.control_points.get_labels():\n",
    "        sg.geometry_refinement.set_param(gonioref.get_ai(sg.get_position()).param)\n",
    "    jupyter.display(sg=sg, ax=fig.add_subplot(2, 1, idx+1))\n",
    "        \n"
   ]
  },
  {
   "cell_type": "code",
   "execution_count": null,
   "metadata": {
    "collapsed": false
   },
   "outputs": [],
   "source": [
    "# Final pass of refinement with all constrains removed, very fine refinement\n",
    "\n",
    "gonioref.bounds = None\n",
    "gonioref.refine2(\"slsqp\", eps=1e-13, maxiter=10000, ftol=1e-12)"
   ]
  },
  {
   "cell_type": "code",
   "execution_count": null,
   "metadata": {
    "collapsed": false
   },
   "outputs": [],
   "source": [
    "# Create a MultiGeometry integrator from the refined geometry:\n",
    "\n",
    "angles = []\n",
    "images = []\n",
    "for sg in gonioref.single_geometries.values():\n",
    "    angles.append(sg.get_position())\n",
    "    images.append(sg.image)\n",
    "    \n",
    "multigeo = gonioref.get_mg(angles)\n",
    "multigeo.radial_range=(3, 68)\n",
    "print(multigeo)"
   ]
  },
  {
   "cell_type": "code",
   "execution_count": null,
   "metadata": {
    "collapsed": false
   },
   "outputs": [],
   "source": [
    "# Integrate the whole set of images in a single run:\n",
    "\n",
    "res = multigeo.integrate1d(images, 10000)\n",
    "fig, ax = subplots()\n",
    "ax.plot(*res)\n",
    "ax.set_xlabel(res.unit.label)\n",
    "ax.set_ylabel(\"Intensity\")"
   ]
  },
  {
   "cell_type": "code",
   "execution_count": null,
   "metadata": {
    "collapsed": true
   },
   "outputs": [],
   "source": [
    "# Save the goniometer configuration with 1 angle\n",
    "\n",
    "gonioref.save(\"ROBL_v1.json\")"
   ]
  },
  {
   "cell_type": "code",
   "execution_count": null,
   "metadata": {
    "collapsed": false
   },
   "outputs": [],
   "source": [
    "#Can the refinement be improved by freeing another degree of freedom ? what about rot1 ?\n",
    "\n",
    "goniotrans2 = GeometryTransformation(param_names = [\"dist\", \"poni1\", \"poni2\", \n",
    "                                                    \"rot1\", \"rot1_scale\",\n",
    "                                                    \"rot2_offset\", \"rot2_scale\"],\n",
    "                                     dist_expr=\"dist\", \n",
    "                                     poni1_expr=\"poni1\",\n",
    "                                     poni2_expr=\"poni2\", \n",
    "                                     rot1_expr=\"rot1_scale * pos + rot1\", \n",
    "                                     rot2_expr=\"rot2_scale * pos + rot2_offset\", \n",
    "                                     rot3_expr=\"0.0\")\n",
    "\n",
    "param2 = (gonioref.nt_param(*gonioref.param))._asdict()\n",
    "param2[\"rot1_scale\"] = 0\n",
    "\n",
    "gonioref2 = GoniometerRefinement(param2, \n",
    "                                 pos_function = get_angle,\n",
    "                                 trans_function=goniotrans2,\n",
    "                                 detector=pilatus,\n",
    "                                 wavelength=wavelength)\n",
    "gonioref2.single_geometries = gonioref.single_geometries.copy()\n",
    "\n",
    "print(gonioref2.chi2(), gonioref.chi2())\n",
    "gonioref2.refine2()\n",
    "gonioref2.save(\"ROBL_v2.json\")"
   ]
  },
  {
   "cell_type": "code",
   "execution_count": null,
   "metadata": {
    "collapsed": false
   },
   "outputs": [],
   "source": [
    "# Check the calibration of the first and the last image with rings\n",
    "\n",
    "print(\"First & last rings\")\n",
    "\n",
    "fig = plt.figure()\n",
    "for idx,lbl in enumerate([DATA_DIRECTORY + \"/del_10.0_0001p\", DATA_DIRECTORY + \"/del_65.0_0001p\"]):\n",
    "    sg = gonioref.single_geometries[lbl]\n",
    "    if sg.control_points.get_labels():\n",
    "        sg.geometry_refinement.set_param(gonioref2.get_ai(sg.get_position()).param)\n",
    "    jupyter.display(sg=sg, ax=fig.add_subplot(2, 1, idx+1))"
   ]
  },
  {
   "cell_type": "code",
   "execution_count": null,
   "metadata": {
    "collapsed": false
   },
   "outputs": [],
   "source": [
    "#Create a MultiGeometry integrator from the refined geometry and display the integrated image:\n",
    "\n",
    "multigeo2 = gonioref2.get_mg(angles)\n",
    "multigeo2.radial_range=(3, 68)\n",
    "print(multigeo2)\n",
    "\n",
    "res2 = multigeo2.integrate1d(images, 10000)\n",
    "\n",
    "#Display the 2 curves with a zoom\n",
    "fig = figure(figsize=(10,5))\n",
    "ax = fig.add_subplot(1,2,1)\n",
    "ax.plot(*res2, label=\"rot1 & rot2 rotation\")\n",
    "ax.plot(*res, label=\"rot2 only rotation\")\n",
    "ax.set_xlabel(res.unit.label)\n",
    "ax.set_ylabel(\"Intensity\")\n",
    "ax.set_title(\"Azimuthal integration of 121 images merged\")\n",
    "ax.legend()\n",
    "ay = fig.add_subplot(1,2,2)\n",
    "ay.plot(*res2, label=\"rot1 & rot2 rotation\")\n",
    "ay.plot(*res, label=\"rot2 only rotation\")\n",
    "ay.set_xlabel(res.unit.label)\n",
    "ay.set_ylabel(\"Intensity\")\n",
    "ay.set_xlim(10.5,11)\n",
    "ay.set_title(\"Zoom on first peak\")\n",
    "ay.legend()\n"
   ]
  },
  {
   "cell_type": "code",
   "execution_count": null,
   "metadata": {
    "collapsed": false
   },
   "outputs": [],
   "source": [
    "print(\"Total execution time: %.3fs\"%(time.time() - start_time))"
   ]
  },
  {
   "cell_type": "markdown",
   "metadata": {},
   "source": [
    "With the first model, the refinement was not perfect on the very low angles and indicates a miss-fit. Relaxing the constrains on *rot1* allowed to spot a non (perfect) orthogonality between the goniometer axis and the incident beam. Releasing the distances is also possible, for example to cope with the sample not perfectly mounted on the center of the goniometer. \n",
    "\n",
    "## Conclusion\n",
    "\n",
    "This notebook exposes the how to calibrate the goniometer for a small detector moving on a 2theta arm. \n",
    "Once calibrated, the geometry can be saved and restored and stays valid as long as the detector or the goniometer is not unmounted from the beam-line. This configuration can subsequently be used to integrate the data acquired with any  sample, in minutes instead of hours. The resolution limit is now the pixel size. Fortunately, pixel detector with small pixel like the MaxiPix or the Lambda detector exists and offer higher resolution."
   ]
  }
 ],
 "metadata": {
  "kernelspec": {
   "display_name": "Python 3",
   "language": "python",
   "name": "python3"
  },
  "language_info": {
   "codemirror_mode": {
    "name": "ipython",
    "version": 3
   },
   "file_extension": ".py",
   "mimetype": "text/x-python",
   "name": "python",
   "nbconvert_exporter": "python",
   "pygments_lexer": "ipython3",
   "version": "3.5.2"
  }
 },
 "nbformat": 4,
 "nbformat_minor": 2
}
