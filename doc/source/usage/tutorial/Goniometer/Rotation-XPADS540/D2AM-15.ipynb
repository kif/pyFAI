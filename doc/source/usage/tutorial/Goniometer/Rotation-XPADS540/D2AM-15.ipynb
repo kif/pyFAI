{
 "cells": [
  {
   "cell_type": "markdown",
   "metadata": {},
   "source": [
    "# ImXPAD S540 detector at D2AM\n",
    "\n",
    "This tutorial corresponds to the calibration the goniometer an ImXPAD detector\n",
    "composed of 8 stripes of 7 modules, many of which are defective, on a goniometer.\n",
    "\n",
    "This detector is mounted on the goniometer 2theta arm at the D2AM beam-line, French CRG\n",
    "at the ESRF synchrotron. \n",
    "\n",
    "The raw data files are available at:\n",
    "http://www.silx.org/pub/pyFAI/gonio/D2AM-15/"
   ]
  },
  {
   "cell_type": "code",
   "execution_count": null,
   "metadata": {
    "collapsed": false
   },
   "outputs": [],
   "source": [
    "%pylab nbagg"
   ]
  },
  {
   "cell_type": "code",
   "execution_count": null,
   "metadata": {
    "collapsed": false
   },
   "outputs": [],
   "source": [
    "import glob, os, time\n",
    "start_time = time.time()\n",
    "import fabio, pyFAI\n",
    "from pyFAI.goniometer import GeometryTransformation, GoniometerRefinement, Goniometer\n",
    "from pyFAI.gui import jupyter"
   ]
  },
  {
   "cell_type": "code",
   "execution_count": null,
   "metadata": {
    "collapsed": true
   },
   "outputs": [],
   "source": [
    "# Configure data location\n",
    "DATA_DIRECTORY = \"/workspace/valls/data/goniometer/D2AM-15\""
   ]
  },
  {
   "cell_type": "code",
   "execution_count": null,
   "metadata": {
    "collapsed": false
   },
   "outputs": [],
   "source": [
    "#Definition of the detector and deplay of an image and its mask:\n",
    "\n",
    "d5 = pyFAI.detector_factory(DATA_DIRECTORY + \"/D5Geom.h5\")\n",
    "print(d5.shape)\n",
    "\n",
    "images = glob.glob(DATA_DIRECTORY + \"/*.edf.gz\")\n",
    "fimg = fabio.open(images[-1])\n",
    "\n",
    "for k,v in fimg.header.items():\n",
    "    print(k, \": \", v)\n",
    "    \n",
    "f,ax=subplots(1,2)\n",
    "ax[0].imshow(d5.mask, origin=\"lower\")\n",
    "ax[0].set_title(\"D5 Mask\")\n",
    "ax[1].imshow(numpy.arcsinh(fimg.data), cmap=\"inferno\", origin=\"lower\")\n",
    "ax[1].set_title(fimg.filename)\n"
   ]
  },
  {
   "cell_type": "code",
   "execution_count": null,
   "metadata": {
    "collapsed": false
   },
   "outputs": [],
   "source": [
    "# Define wavelength and create our \"large\" LaB6 calibrant\n",
    "\n",
    "wavelength = 0.495938 * 1e-10\n",
    "from pyFAI.calibrant import Cell, Calibrant\n",
    "c = Cell.cubic(4.1568260) \n",
    "c.save(\"LaB6\", dmin=0.2)\n",
    "LaB6 = Calibrant(\"LaB6.D\")\n",
    "LaB6.wavelength = wavelength\n",
    "print(\"2theta max: \", numpy.degrees(LaB6.get_2th()[-1]))\n",
    "print(\"Number of reflections: \", len(LaB6.get_2th()))"
   ]
  },
  {
   "cell_type": "code",
   "execution_count": null,
   "metadata": {
    "collapsed": false
   },
   "outputs": [],
   "source": [
    "# Use a few manually calibrated images:\n",
    "\n",
    "npt_files = [ i for i in glob.glob(DATA_DIRECTORY + \"/*.npt\") if \"new\" not in i]\n",
    "npt_files.sort()\n",
    "npt_files[0]\n",
    "print(\"Number of hand-calibrated images :\", len(npt_files))"
   ]
  },
  {
   "cell_type": "code",
   "execution_count": null,
   "metadata": {
    "collapsed": false
   },
   "outputs": [],
   "source": [
    "# Definition of the goniometer translation function:\n",
    "# The detector rotates vertically, around the horizontal axis, i.e. rot2. \n",
    "# Rotation both around axis 1 and axis 2 are allowed\n",
    "\n",
    "goniotrans = GeometryTransformation(param_names = [\"dist\", \"poni1\", \"poni2\", \n",
    "                                                   \"rot1\", \"rot2\", \"rot3\", \"scale1\", \"scale2\" ],\n",
    "                                    dist_expr=\"dist\", \n",
    "                                    poni1_expr=\"poni1\",\n",
    "                                    poni2_expr=\"poni2\", \n",
    "                                    rot1_expr=\"scale1 * pos +rot1\", \n",
    "                                    rot2_expr=\"scale2 * pos + rot2\", \n",
    "                                    rot3_expr=\"rot3\")\n",
    "\n",
    "\n",
    "#Definition of the function reading the goniometer angle from the filename of the image.\n",
    "\n",
    "def get_angle(metadata):\n",
    "    \"\"\"Takes the angle from the first motor position and returns the angle of the goniometer arm\"\"\"\n",
    "    return float(metadata[\"motor_pos\"].split()[0])\n",
    "\n",
    "print('filename', fimg.filename, \"angle:\",get_angle(fimg.header))"
   ]
  },
  {
   "cell_type": "code",
   "execution_count": null,
   "metadata": {
    "collapsed": false
   },
   "outputs": [],
   "source": [
    "# Definition of the geometry refinement: the parameter order is the same as the param_names\n",
    "\n",
    "rot3 = numpy.pi/2\n",
    "scale1 = -numpy.pi/180\n",
    "scale2 = 0\n",
    "param = {\"dist\":0.5, \n",
    "         \"poni1\":0.05, \n",
    "         \"poni2\":0.05, \n",
    "         \"rot1\":0,\n",
    "         \"rot2\":0,\n",
    "         \"rot3\": rot3,\n",
    "         \"scale1\": scale1,\n",
    "         \"scale2\": scale2,\n",
    "        }\n",
    "# Defines the bounds for some variables\n",
    "bounds = {\"dist\": (0.2, 0.8), \n",
    "          \"poni1\": (0, 0.1),\n",
    "          \"poni2\": (0, 0.1),\n",
    "          \"rot1\": (-0.1, 0.1),\n",
    "          \"rot2\": (-0.1, 0.1),\n",
    "          \"rot3\": (rot3, rot3), #strict bounds on rot3\n",
    "          #\"scale1\": (scale1, scale1),\n",
    "          #\"scale2\": (scale2, scale2),\n",
    "         }\n",
    "gonioref = GoniometerRefinement(param, #initial guess\n",
    "                                bounds=bounds,\n",
    "                                pos_function=get_angle,\n",
    "                                trans_function=goniotrans,\n",
    "                                detector=d5, wavelength=wavelength)\n",
    "print(\"Empty refinement object:\", gonioref)\n",
    "\n",
    "# Let's populate the goniometer refinement object with all control point files:\n",
    "\n",
    "for fn in npt_files[:]:\n",
    "    base = os.path.splitext(fn)[0]\n",
    "    fimg = fabio.open(base + \".edf.gz\")\n",
    "    sg =gonioref.new_geometry(base, image=fimg.data, metadata=fimg.header, control_points=fn, calibrant=LaB6)\n",
    "    print(base, \"Angle:\", sg.get_position())\n",
    "    \n",
    "\n",
    "print(\"Filled refinement object:\")\n",
    "print(gonioref)"
   ]
  },
  {
   "cell_type": "code",
   "execution_count": null,
   "metadata": {
    "collapsed": false
   },
   "outputs": [],
   "source": [
    "# Initial refinement of the goniometer model with 5 dof\n",
    "\n",
    "gonioref.refine2()"
   ]
  },
  {
   "cell_type": "code",
   "execution_count": null,
   "metadata": {
    "collapsed": false
   },
   "outputs": [],
   "source": [
    "width=3\n",
    "height=int(ceil(len(gonioref.single_geometries)/width))\n",
    "fig,ax = subplots(height, width,figsize=(10,15))\n",
    "for idx, sg in enumerate(gonioref.single_geometries.values()):\n",
    "    sg.geometry_refinement.set_param(gonioref.get_ai(sg.get_position()).param)\n",
    "    jupyter.display(sg=sg, ax=ax[idx//width, idx%width])"
   ]
  },
  {
   "cell_type": "code",
   "execution_count": null,
   "metadata": {
    "collapsed": false
   },
   "outputs": [],
   "source": [
    "# Final pass of refinement with all constrains removed, very fine refinement\n",
    "\n",
    "gonioref.bounds = None\n",
    "gonioref.refine2(\"slsqp\", eps=1e-13, maxiter=10000, ftol=1e-12)"
   ]
  },
  {
   "cell_type": "code",
   "execution_count": null,
   "metadata": {
    "collapsed": false
   },
   "outputs": [],
   "source": [
    "# Create a MultiGeometry integrator from the refined geometry:\n",
    "\n",
    "angles = []\n",
    "images = []\n",
    "for sg in gonioref.single_geometries.values():\n",
    "    angles.append(sg.get_position())\n",
    "    images.append(sg.image)\n",
    "    \n",
    "multigeo = gonioref.get_mg(angles)\n",
    "multigeo.radial_range=(0, 80)\n",
    "print(multigeo)"
   ]
  },
  {
   "cell_type": "code",
   "execution_count": null,
   "metadata": {
    "collapsed": false
   },
   "outputs": [],
   "source": [
    "# Integrate the whole set of images in a single run:\n",
    "\n",
    "res = multigeo.integrate1d(images, 10000)\n",
    "fig, ax = subplots()\n",
    "ax.plot(*res)\n",
    "ax.set_xlabel(res.unit.label)\n",
    "ax.set_ylabel(\"Intensity\")\n",
    "\n",
    "#Note the large number of peaks due to hot pixels ...."
   ]
  },
  {
   "cell_type": "code",
   "execution_count": null,
   "metadata": {
    "collapsed": false
   },
   "outputs": [],
   "source": [
    "# Add hot pixels to the mask: pixel which are 15x more intense than the median in their ring.\n",
    "\n",
    "thres = 15\n",
    "\n",
    "old_mask = d5.mask.astype(\"bool\", copy=True)\n",
    "new_mask = d5.mask.astype(\"bool\", copy=True)\n",
    "\n",
    "for ai,img in zip(multigeo.ais,images):\n",
    "    b,a = ai.separate(img, 1000, restore_mask=0)\n",
    "    b[old_mask] = 0\n",
    "    b[b<0] = 0\n",
    "    print(sum(b>thres*a))\n",
    "    new_mask = numpy.logical_or(new_mask, (b>thres*a))\n",
    "\n",
    "print(sum(old_mask), sum(new_mask), sum(new_mask)-sum(old_mask))    "
   ]
  },
  {
   "cell_type": "code",
   "execution_count": null,
   "metadata": {
    "collapsed": false
   },
   "outputs": [],
   "source": [
    "# Update the mask\n",
    "for ai in multigeo.ais:\n",
    "    ai.detector.mask = new_mask\n",
    "    \n",
    "# Integrate the whole set of images in a single run:\n",
    "res2 = multigeo.integrate1d(images, 10000)\n",
    "fig, ax = subplots()\n",
    "ax.plot(*res, label=\"Before hot-pixel removal\")\n",
    "ax.plot(*res2, label=\"After hot-pixel removal\")\n",
    "ax.legend()\n",
    "ax.set_xlabel(res.unit.label)\n",
    "ax.set_ylabel(\"Intensity\")"
   ]
  },
  {
   "cell_type": "code",
   "execution_count": null,
   "metadata": {
    "collapsed": false
   },
   "outputs": [],
   "source": [
    "# Integrate the whole set of images in 2D:\n",
    "\n",
    "res2d = multigeo.integrate2d(images, 1000, 360)\n",
    "fig, ax = subplots()\n",
    "ax.imshow(numpy.arcsinh(res2d[0]), cmap=\"inferno\", origin=\"lower\", aspect=\"auto\",\n",
    "          extent=[res2d[1][0], res2d[1][-1], res2d[2][0], res2d[2][-1]])\n",
    "ax.set_xlabel(res.unit.label)\n",
    "ax.set_ylabel(r\"$\\chi$ angle\")"
   ]
  },
  {
   "cell_type": "code",
   "execution_count": null,
   "metadata": {
    "collapsed": false
   },
   "outputs": [],
   "source": [
    "print(\"Total execution time\", time.time()-start_time)"
   ]
  }
 ],
 "metadata": {
  "kernelspec": {
   "display_name": "Python 3",
   "language": "python",
   "name": "python3"
  },
  "language_info": {
   "codemirror_mode": {
    "name": "ipython",
    "version": 3
   },
   "file_extension": ".py",
   "mimetype": "text/x-python",
   "name": "python",
   "nbconvert_exporter": "python",
   "pygments_lexer": "ipython3",
   "version": "3.5.2"
  }
 },
 "nbformat": 4,
 "nbformat_minor": 2
}
