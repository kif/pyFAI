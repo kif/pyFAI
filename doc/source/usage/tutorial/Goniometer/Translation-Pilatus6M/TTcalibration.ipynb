{
 "cells": [
  {
   "cell_type": "markdown",
   "metadata": {},
   "source": [
    "# Calibration of a detector on a translation table\n",
    "\n",
    "The aim of this document is to explain how to use `pyFAI.goniometer` for calibrating the position detector from the translation table encoders.\n",
    "\n",
    "Those data have been acquired at ESRF-ID29 in summer 2013 on a Pilatus 6M using Ceria (CeO2) as calibrant.\n",
    "Seven images have been acquired with the detector moved between 15 cm and 45 cm from the sample position.\n",
    "A prior calibration has been performed using the *MX-calibrate* script from the pyFAI suite. \n",
    "The control points extracted during this initial calibration have been used as a starting point for this calibration.\n",
    "\n",
    "The raw data files are available at:\n",
    "http://www.silx.org/pub/pyFAI/gonio/MX-ceria/"
   ]
  },
  {
   "cell_type": "code",
   "execution_count": null,
   "metadata": {
    "collapsed": false
   },
   "outputs": [],
   "source": [
    "# Initialization of the plotting library for use in the Jupyter notebook\n",
    "%pylab nbagg"
   ]
  },
  {
   "cell_type": "code",
   "execution_count": null,
   "metadata": {
    "collapsed": false
   },
   "outputs": [],
   "source": [
    "# Loading of a few libraries\n",
    "\n",
    "import time\n",
    "start_time =time.time()\n",
    "import os\n",
    "import glob\n",
    "import fabio\n",
    "import pyFAI\n",
    "from  pyFAI.goniometer import GeometryTransformation, GoniometerRefinement, Goniometer\n",
    "from pyFAI.gui import jupyter"
   ]
  },
  {
   "cell_type": "code",
   "execution_count": null,
   "metadata": {
    "collapsed": true
   },
   "outputs": [],
   "source": [
    "# Configure data location\n",
    "DATA_DIRECTORY = \"/workspace/valls/data/goniometer/MX-ceria\""
   ]
  },
  {
   "cell_type": "code",
   "execution_count": null,
   "metadata": {
    "collapsed": false
   },
   "outputs": [],
   "source": [
    "# Loading of the list of files, and display of the first one with its headers\n",
    "\n",
    "image_files = glob.glob(DATA_DIRECTORY + \"/*.cbf\")\n",
    "image_files.sort()\n",
    "print(\"List of images: \" + \", \".join(image_files) + \".\" + os.linesep)\n",
    "fimg = fabio.open(image_files[0])\n",
    "\n",
    "print(\"Image headers:\")\n",
    "for key, value in  fimg.header.items():\n",
    "    print(\"%s: %s\"%(key,value))\n",
    "    \n",
    "jupyter.display(fimg.data, label=fimg.filename)"
   ]
  },
  {
   "cell_type": "code",
   "execution_count": null,
   "metadata": {
    "collapsed": false
   },
   "outputs": [],
   "source": [
    "# Definition of the geometry translation function:\n",
    "\n",
    "geotrans = GeometryTransformation(param_names = [\"dist_offset\", \"dist_scale\", \n",
    "                                                 \"poni1\", \"poni2\", \"rot1\",\"rot2\"],\n",
    "                                  dist_expr=\"pos * dist_scale + dist_offset\", \n",
    "                                  poni1_expr=\"poni1\",\n",
    "                                  poni2_expr=\"poni2\", \n",
    "                                  rot1_expr=\"rot1\", \n",
    "                                  rot2_expr=\"rot2\", \n",
    "                                  rot3_expr=\"0.0\")\n",
    "\n",
    "\n",
    "# Definition of the function reading the detector position from the header of the image.\n",
    "\n",
    "def get_distance(header):\n",
    "    \"\"\"Takes the header of the CBF-file and returns the distance of the detector\"\"\"\n",
    "    dist = 0\n",
    "    for line in header.get(\"_array_data.header_contents\",\"\").split(\"\\n\"):\n",
    "        words = line.split()\n",
    "        if words[1] == \"Detector_distance\":\n",
    "            dist = float(words[2])\n",
    "            break\n",
    "    return dist\n",
    "\n",
    "print(\"Distance:\",get_distance(fimg.header))"
   ]
  },
  {
   "cell_type": "code",
   "execution_count": null,
   "metadata": {
    "collapsed": false
   },
   "outputs": [],
   "source": [
    "# Definition of the detector, the calibrant and extraction of the wavelength used from the headers\n",
    "\n",
    "pilatus = pyFAI.detector_factory(\"Pilatus6M\")\n",
    "CeO2 = pyFAI.calibrant.CALIBRANT_FACTORY(\"CeO2\")\n",
    "for line in fimg.header.get(\"_array_data.header_contents\",\"\").split(\"\\n\"):\n",
    "    words = line.split()\n",
    "    if words[1] == \"Wavelength\":\n",
    "        wavelength = float(words[2])*1e-10\n",
    "        break\n",
    "print(\"Wavelength:\", wavelength)\n",
    "CeO2.wavelength = wavelength"
   ]
  },
  {
   "cell_type": "code",
   "execution_count": null,
   "metadata": {
    "collapsed": false
   },
   "outputs": [],
   "source": [
    "# Definition of the geometry refinement: the parameter order is the same as the param_names\n",
    "\n",
    "param = {\"dist_offset\":0, \n",
    "         \"dist_scale\":1,\n",
    "         \"poni1\":0.2, \n",
    "         \"poni2\":0.2, \n",
    "         \"rot1\":0,\n",
    "         \"rot2\":0}\n",
    "\n",
    "gonioref = GoniometerRefinement(param, #initial guess\n",
    "                                pos_function=get_distance,\n",
    "                                trans_function=geotrans,\n",
    "                                detector=pilatus,\n",
    "                                wavelength=wavelength)\n",
    "print(\"Empty refinement object:\")\n",
    "print(gonioref)"
   ]
  },
  {
   "cell_type": "code",
   "execution_count": null,
   "metadata": {
    "collapsed": false
   },
   "outputs": [],
   "source": [
    "# Let's populate the goniometer refinement object with all control point files:\n",
    "\n",
    "ponis = glob.glob(DATA_DIRECTORY + \"/*.poni\")\n",
    "ponis.sort()\n",
    "print(ponis)\n",
    "for fn in ponis:\n",
    "    base = os.path.splitext(fn)[0]\n",
    "    fimg = fabio.open(base + \".cbf\")\n",
    "    gonioref.new_geometry(base, image=fimg.data, metadata=fimg.header, control_points=base+\".npt\",\n",
    "                          geometry=fn, calibrant=CeO2)\n",
    "\n",
    "print(\"Filled refinement object:\")\n",
    "print(gonioref)\n",
    "print(os.linesep+\"\\tLabel \\t Distance\")\n",
    "for k, v in gonioref.single_geometries.items():\n",
    "    print(k,v.get_position())"
   ]
  },
  {
   "cell_type": "code",
   "execution_count": null,
   "metadata": {
    "collapsed": false
   },
   "outputs": [],
   "source": [
    "# Display all images with associated calibration:\n",
    "\n",
    "for sg in gonioref.single_geometries.values():\n",
    "    jupyter.display(sg=sg)"
   ]
  },
  {
   "cell_type": "code",
   "execution_count": null,
   "metadata": {
    "collapsed": false
   },
   "outputs": [],
   "source": [
    "# Initial refinement of the translation table model\n",
    "\n",
    "gonioref.refine2()"
   ]
  },
  {
   "cell_type": "code",
   "execution_count": null,
   "metadata": {
    "collapsed": false
   },
   "outputs": [],
   "source": [
    "# Save the result of the fitting to a file and display the content of the JSON file:\n",
    "\n",
    "gonioref.save(\"ID29.json\")\n",
    "with open(\"ID29.json\") as fd:\n",
    "    print(fd.read())"
   ]
  },
  {
   "cell_type": "code",
   "execution_count": null,
   "metadata": {
    "collapsed": false
   },
   "outputs": [],
   "source": [
    "# Restore the translation table setting from the file\n",
    "\n",
    "transtable = Goniometer.sload(\"ID29.json\")\n",
    "print(\"Translation table: \\n\",transtable)"
   ]
  },
  {
   "cell_type": "code",
   "execution_count": null,
   "metadata": {
    "collapsed": false
   },
   "outputs": [],
   "source": [
    "# Create a multi-geometry object for all images in this set:\n",
    "\n",
    "distances = [get_distance(fabio.open(fn).header) for fn in image_files]\n",
    "print(\"Distances: \", distances)\n",
    "multigeo = transtable.get_mg(distances)\n",
    "multigeo.radial_range=(0, 65)\n",
    "print(multigeo)"
   ]
  },
  {
   "cell_type": "code",
   "execution_count": null,
   "metadata": {
    "collapsed": false
   },
   "outputs": [],
   "source": [
    "# Integrate the set of images in a single run:\n",
    "\n",
    "res = multigeo.integrate1d([fabio.open(fn).data for fn in image_files], 10000)\n",
    "\n",
    "# Display the result using matplotlib\n",
    "fig, ax = subplots()\n",
    "ax.plot(*res)\n",
    "ax.set_xlabel(res.unit.label)\n",
    "ax.set_ylabel(\"Intensity\")\n",
    "ax.set_xlim(17, 22)\n",
    "ax.set_title(\"Zoom on the two first rings\")"
   ]
  },
  {
   "cell_type": "markdown",
   "metadata": {},
   "source": [
    "Accoring to the provious image, peaks look double which indicates a bad modeling of the setup or a bad fitting.\n",
    "As the fitting ended successfully, the bug is likely in the model: let's allow the PONI to move with the distance"
   ]
  },
  {
   "cell_type": "code",
   "execution_count": null,
   "metadata": {
    "collapsed": false
   },
   "outputs": [],
   "source": [
    "# Let's refine poni1 and poni2 also as function of the distance:\n",
    "\n",
    "geotrans2 = GeometryTransformation(param_names = [\"dist_offset\", \"dist_scale\", \n",
    "                                                  \"poni1_offset\", \"poni1_scale\",\n",
    "                                                  \"poni2_offset\", \"poni2_scale\",\n",
    "                                                  \"rot1\",\"rot2\"],\n",
    "                         dist_expr=\"pos * dist_scale + dist_offset\", \n",
    "                         poni1_expr=\"pos * poni1_scale + poni1_offset\",\n",
    "                         poni2_expr=\"pos * poni2_scale + poni2_offset\", \n",
    "                         rot1_expr=\"rot1\", \n",
    "                         rot2_expr=\"rot2\", \n",
    "                         rot3_expr=\"0.0\")\n",
    "\n",
    "#initial guess from former parameter set\n",
    "param2 = (gonioref.nt_param(*gonioref.param))._asdict()\n",
    "param2[\"poni1_offset\"] = 0\n",
    "param2[\"poni2_offset\"] = 0\n",
    "param2[\"poni1_scale\"] = 1\n",
    "param2[\"poni2_scale\"] = 1\n",
    "\n",
    "gonioref2 = GoniometerRefinement(param2, \n",
    "                                 pos_function = get_distance,\n",
    "                                 trans_function=geotrans2,\n",
    "                                 detector=pilatus,\n",
    "                                 wavelength=wavelength)\n",
    "gonioref2.single_geometries = gonioref.single_geometries.copy()\n",
    "print(gonioref2)\n"
   ]
  },
  {
   "cell_type": "code",
   "execution_count": null,
   "metadata": {
    "collapsed": false
   },
   "outputs": [],
   "source": [
    "# Refinement of the second model with all distances free\n",
    "\n",
    "gonioref2.refine2()"
   ]
  },
  {
   "cell_type": "code",
   "execution_count": null,
   "metadata": {
    "collapsed": false
   },
   "outputs": [],
   "source": [
    "# Integration of all images with the second model\n",
    "\n",
    "multigeo2 = gonioref2.get_mg(distances)\n",
    "multigeo2.radial_range=(0, 65)\n",
    "print(multigeo2)\n",
    "res2 = multigeo2.integrate1d([fabio.open(fn).data for fn in image_files], 10000)\n",
    "\n",
    "# Display the result, zooming on the two first rings\n",
    "fig, ax = subplots()\n",
    "ax.plot(*res)\n",
    "ax.plot(*res, label=\"only distance free\")\n",
    "ax.plot(*res2, label=\"distance and PONI free\")\n",
    "ax.set_ylabel(\"Intensity\")\n",
    "ax.set_xlim(17, 22)\n",
    "ax.set_title(\"Zoom on the two first rings\")\n",
    "ax.set_xlabel(res2.unit.label)\n",
    "ax.legend()"
   ]
  },
  {
   "cell_type": "code",
   "execution_count": null,
   "metadata": {
    "collapsed": false
   },
   "outputs": [],
   "source": [
    "# Re-extract many more control points from images for a better fit\n",
    "\n",
    "for sg in gonioref2.single_geometries.values():\n",
    "    sg.extract_cp(pts_per_deg=3)\n",
    "    jupyter.display(sg=sg)"
   ]
  },
  {
   "cell_type": "code",
   "execution_count": null,
   "metadata": {
    "collapsed": false
   },
   "outputs": [],
   "source": [
    "# Refine again the model\n",
    "\n",
    "gonioref2.refine2()\n",
    "\n",
    "# Build the MultiGeometry integrator object\n",
    "\n",
    "multigeo3 = gonioref2.get_mg(distances)\n",
    "multigeo3.radial_range=(0, 65)\n",
    "print(multigeo3)\n",
    "\n",
    "# Perform the azimuthal integration\n",
    "res3 = multigeo3.integrate1d([fabio.open(fn).data for fn in image_files], 10000)\n",
    "\n",
    "# Display the result\n",
    "fig, ax = subplots()\n",
    "ax.plot(*res, label=\"only distance free\")\n",
    "ax.plot(*res2, label=\"distance and PONI free\")\n",
    "ax.plot(*res2, linestyle=\"--\", label=\"distance and PONI free, more points\")\n",
    "ax.set_xlabel(res2.unit.label)\n",
    "ax.set_xlim(17, 22)\n",
    "ax.legend()"
   ]
  },
  {
   "cell_type": "markdown",
   "metadata": {
    "collapsed": true
   },
   "source": [
    "This re-extraction of control point did not help to get a sharper diffraction profile. This step was un-necessary.\n",
    "\n",
    "## Conclusion\n",
    "This notebook exposes the how to calibrate a translation table for a moving detector. It allows to:\n",
    "* Check the proper alignement of the table regarding the actual beam \n",
    "* Check the encoder's precision (usually good) and offsets (arbitrary)\n",
    "* Perform azimuthal integration to retrieve powder diffraction patterns at any position of the detector.\n"
   ]
  },
  {
   "cell_type": "code",
   "execution_count": null,
   "metadata": {
    "collapsed": false
   },
   "outputs": [],
   "source": [
    "print(\"Total execution time: %.3fs\"%(time.time() - start_time))"
   ]
  }
 ],
 "metadata": {
  "kernelspec": {
   "display_name": "Python 3",
   "language": "python",
   "name": "python3"
  },
  "language_info": {
   "codemirror_mode": {
    "name": "ipython",
    "version": 3
   },
   "file_extension": ".py",
   "mimetype": "text/x-python",
   "name": "python",
   "nbconvert_exporter": "python",
   "pygments_lexer": "ipython3",
   "version": "3.5.2"
  }
 },
 "nbformat": 4,
 "nbformat_minor": 2
}
