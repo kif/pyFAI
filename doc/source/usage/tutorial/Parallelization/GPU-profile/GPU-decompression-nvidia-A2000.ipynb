{
 "cells": [
  {
   "cell_type": "markdown",
   "id": "aba2ed24-0160-49f3-9001-5d8a09fb23b5",
   "metadata": {},
   "source": [
    "# Image decompression and azimuthal integration on the GPU\n",
    "\n",
    "This tutorial explains how it is possible to speed-up azimuthal integration by speeding-up the critical part: the data transfer to the GPU.\n",
    "\n",
    "For this tutorial, very recent version of `silx` and `pyFAI` are needed, newer than fall 2022.\n",
    "\n",
    "**Credits:**\n",
    "\n",
    "* Thomas Vincent (ESRF) for the HDF5 direct chunk read and the Jupyter-slurm\n",
    "* Jon Wright (ESRF) for the initial prototype of the bitshuffle-LZ4 decompression on the GPU\n",
    "* Pierre Paleo (ESRF) for struggling with this kind of stuff with GPUs\n",
    "\n",
    "**Nota:** a (fast) GPU is needed for this tutorial with OpenCL properly setup !\n",
    "\n",
    "The example taken here is the same as the multithreading example: 4096 frames of Eiger_4M in one file to be decompressed and integrated."
   ]
  },
  {
   "cell_type": "code",
   "execution_count": 1,
   "id": "35d7f634-2c20-4ed0-8e2e-555de196df8d",
   "metadata": {},
   "outputs": [],
   "source": [
    "%matplotlib inline"
   ]
  },
  {
   "cell_type": "code",
   "execution_count": 2,
   "id": "50803786-8f10-46d8-8fdc-405a59c235cf",
   "metadata": {},
   "outputs": [
    {
     "name": "stderr",
     "output_type": "stream",
     "text": [
      "/home/esrf/kieffer/.venv/py38-ub2004/lib/python3.8/site-packages/scipy/__init__.py:146: UserWarning: A NumPy version >=1.16.5 and <1.23.0 is required for this version of SciPy (detected version 1.23.4\n",
      "  warnings.warn(f\"A NumPy version >={np_minversion} and <{np_maxversion}\"\n"
     ]
    },
    {
     "data": {
      "text/plain": [
       "OpenCL devices:\n",
       "[0] NVIDIA CUDA: (0,0) NVIDIA RTX A2000 12GB\n",
       "[1] Intel(R) OpenCL: (1,0) Intel(R) Xeon(R) CPU E5-2667 0 @ 2.90GHz"
      ]
     },
     "execution_count": 2,
     "metadata": {},
     "output_type": "execute_result"
    }
   ],
   "source": [
    "import sys, os, collections, struct, time\n",
    "os.environ[\"PYOPENCL_COMPILER_OUTPUT\"] = \"1\"\n",
    "import numpy, pyFAI\n",
    "import h5py, hdf5plugin\n",
    "from matplotlib.pyplot import subplots\n",
    "import bitshuffle\n",
    "import pyopencl.array as cla\n",
    "import silx\n",
    "from silx.opencl import ocl\n",
    "from silx.opencl.codec.bitshuffle_lz4 import BitshuffleLz4\n",
    "start_time = time.time()\n",
    "ocl"
   ]
  },
  {
   "cell_type": "code",
   "execution_count": 3,
   "id": "9e4395dc-8944-4276-ac98-66d8174e48d4",
   "metadata": {},
   "outputs": [
    {
     "name": "stdout",
     "output_type": "stream",
     "text": [
      "Working on device: NVIDIA RTX A2000 12GB\n"
     ]
    }
   ],
   "source": [
    "#Here we select the OpenCL device\n",
    "target = (0,0)\n",
    "device = ocl.platforms[target[0]].devices[target[1]]\n",
    "print(\"Working on device:\", device)"
   ]
  },
  {
   "cell_type": "markdown",
   "id": "8d74f81c-7f0e-4af2-a672-59b5bd972377",
   "metadata": {},
   "source": [
    "## Setup the enviroment:\n",
    "\n",
    "This is a purely virtual experiment, we will use an Eiger 4M detector with data integrated over 1000 bins. Those parameters can be tuned.\n",
    "\n",
    "Random data are generated, to keep this file fairly small, it is generated with small numbers which compress nicely. The speed of the drive where you will put the file is likely to have a huge impact !"
   ]
  },
  {
   "cell_type": "code",
   "execution_count": 4,
   "id": "c578b3e4-5912-4a02-9b4c-349872469324",
   "metadata": {},
   "outputs": [
    {
     "data": {
      "text/plain": [
       "HDF5PluginBuildOptions(openmp=False, native=False, sse2=True, avx2=False, cpp11=True, filter_file_extension='.so', embedded_filters=('blosc', 'bshuf', 'fcidecomp', 'lz4', 'zfp', 'zstd'))"
      ]
     },
     "execution_count": 4,
     "metadata": {},
     "output_type": "execute_result"
    }
   ],
   "source": [
    "det = pyFAI.detector_factory(\"eiger_4M\")\n",
    "shape = det.shape\n",
    "dtype = numpy.dtype(\"uint32\")\n",
    "filename = \"/nobackup/scratch/kieffer/big.h5\"\n",
    "nbins = 1000\n",
    "cmp = hdf5plugin.Bitshuffle()\n",
    "hdf5plugin.config"
   ]
  },
  {
   "cell_type": "code",
   "execution_count": 5,
   "id": "b883ae1c-0549-40cd-9753-ff2d11cb6448",
   "metadata": {},
   "outputs": [
    {
     "name": "stdout",
     "output_type": "stream",
     "text": [
      "Number of frames the computer can host in memory: 3761.526\n"
     ]
    }
   ],
   "source": [
    "mem_bytes = os.sysconf('SC_PAGE_SIZE') * os.sysconf('SC_PHYS_PAGES')\n",
    "print(f\"Number of frames the computer can host in memory: {mem_bytes/(numpy.prod(shape)*dtype.itemsize):.3f}\")\n",
    "if os.environ.get('SLURM_MEM_PER_NODE'):\n",
    "    print(f\"Number of frames the computer can host in memory with SLURM restrictions: {int(os.environ['SLURM_MEM_PER_NODE'])*(1<<20)/(numpy.prod(shape)*dtype.itemsize):.3f}\")"
   ]
  },
  {
   "cell_type": "code",
   "execution_count": 6,
   "id": "a2c253af-504f-4909-b333-235c218b00e2",
   "metadata": {},
   "outputs": [],
   "source": [
    "#The computer being limited to 64G of RAM, the number of frames actually possible is 3800.\n",
    "nbframes = 4096 # slightly larger than the maximum achievable ! Such a dataset should not host in memory."
   ]
  },
  {
   "cell_type": "code",
   "execution_count": 7,
   "id": "1b5e3e71-4c5a-4c67-96b3-91e602deb027",
   "metadata": {},
   "outputs": [],
   "source": [
    "#Prepare a frame with little count so that it compresses well\n",
    "geo = {\"detector\": det, \n",
    "       \"wavelength\": 1e-10, \n",
    "       \"rot3\":0} #work around a bug https://github.com/silx-kit/pyFAI/pull/1749\n",
    "ai = pyFAI.load(geo)\n",
    "omega = ai.solidAngleArray()\n",
    "q = numpy.arange(15)\n",
    "img = ai.calcfrom1d(q, 100/(1+q*q))\n",
    "frame = numpy.random.poisson(img).astype(dtype)"
   ]
  },
  {
   "cell_type": "code",
   "execution_count": 8,
   "id": "b4fb2aa7-4158-488f-80e0-690283858f8f",
   "metadata": {},
   "outputs": [
    {
     "data": {
      "image/png": "[encoded data removed]",
      "text/plain": [
       "<Figure size 432x288 with 1 Axes>"
      ]
     },
     "metadata": {
      "needs_background": "light"
     },
     "output_type": "display_data"
    }
   ],
   "source": [
    "# display the image\n",
    "fig,ax = subplots()\n",
    "ax.imshow(frame)\n",
    "pass"
   ]
  },
  {
   "cell_type": "code",
   "execution_count": 9,
   "id": "fdcb69d3-da9d-4215-919f-a2fc648b845e",
   "metadata": {},
   "outputs": [
    {
     "name": "stdout",
     "output_type": "stream",
     "text": [
      "Performances of the different algorithms for azimuthal integration of Eiger 4M image on the CPU\n",
      "Using algorithm histogram : 961 ms ± 18.6 ms per loop (mean ± std. dev. of 7 runs, 1 loop each)\n",
      "Using algorithm csc       : 84.3 ms ± 2.85 ms per loop (mean ± std. dev. of 7 runs, 1 loop each)\n",
      "Using algorithm csr       : 50.6 ms ± 726 µs per loop (mean ± std. dev. of 7 runs, 1 loop each)\n",
      "Performances of the different algorithms for azimuthal integration of Eiger 4M image on the GPU:  NVIDIA RTX A2000 12GB\n",
      "Using algorithm csr       : 6.79 ms ± 31.6 µs per loop (mean ± std. dev. of 7 runs, 1 loop each)\n"
     ]
    }
   ],
   "source": [
    "print(\"Performances of the different algorithms for azimuthal integration of Eiger 4M image on the CPU\")\n",
    "for algo in (\"histogram\", \"csc\", \"csr\"):\n",
    "    print(f\"Using algorithm {algo:10s}:\", end=\" \")\n",
    "    %timeit ai.integrate1d(frame, nbins, method=(\"full\", algo, \"cython\"))\n",
    "print(\"Performances of the different algorithms for azimuthal integration of Eiger 4M image on the GPU: \", device)\n",
    "print(f\"Using algorithm {algo:10s}:\", end=\" \")\n",
    "timing_integration = %timeit -o ai.integrate1d(frame, nbins, method=(\"full\", algo, \"opencl\", target))"
   ]
  },
  {
   "cell_type": "markdown",
   "id": "9bc9ef05-f255-4fa5-b7b7-6e66f750a09d",
   "metadata": {},
   "source": [
    "**Note:** The full pixel splitting is time consuming and handicaps the histogram algorithm while both sparse-matrix methods are much faster since they cache this calculation in the sparse matrix.\n",
    "\n",
    "On the Intel Xeon processor, the parallel CSR algorithm is faster than the serial CSC algorithm."
   ]
  },
  {
   "cell_type": "code",
   "execution_count": 10,
   "id": "7ee60d8e-4bcc-458c-bd3d-e48724881142",
   "metadata": {},
   "outputs": [
    {
     "name": "stdout",
     "output_type": "stream",
     "text": [
      "6.64 ms ± 10 µs per loop (mean ± std. dev. of 7 runs, 100 loops each)\n",
      "\n",
      "OpenCL kernel profiling statistics in milliseconds for: OCL_CSR_Integrator\n",
      "                                       Kernel name (count):      min   median      max     mean      std\n",
      "                               copy raw H->D image (  811):    4.410    4.436    5.548    4.444    0.058\n",
      "                              convert u32_to_float (  811):    0.143    0.145    0.157    0.145    0.001\n",
      "                                         memset_ng (  811):    0.003    0.003    0.017    0.004    0.001\n",
      "                                      corrections4 (  811):    0.423    0.425    0.438    0.425    0.001\n",
      "                                    csr_integrate4 (  811):    0.654    0.666    0.754    0.667    0.012\n",
      "                                  copy D->H avgint (  811):    0.001    0.002    0.002    0.002    0.000\n",
      "                                     copy D->H std (  811):    0.001    0.002    0.002    0.002    0.000\n",
      "                                     copy D->H sem (  811):    0.001    0.001    0.002    0.001    0.000\n",
      "                                 copy D->H merged8 (  811):    0.005    0.005    0.014    0.005    0.000\n",
      "________________________________________________________________________________\n",
      "                       Total OpenCL execution time        : 4618.932ms\n"
     ]
    }
   ],
   "source": [
    "# How is the time spend when integrating on GPU (with default parameters) ?\n",
    "res0 = ai.integrate1d(frame, nbins, method=(\"full\", \"csr\", \"opencl\", target))\n",
    "engine = ai.engines[res0.method].engine\n",
    "engine.reset_log()\n",
    "engine.set_profiling(True)\n",
    "omega_crc = engine.on_device[\"solidangle\"]\n",
    "%timeit engine.integrate_ng(frame, solidangle=omega, solidangle_checksum=omega_crc)\n",
    "print(\"\\n\".join(engine.log_profile(stats=True)))\n",
    "engine.set_profiling(False)\n",
    "engine.reset_log()"
   ]
  },
  {
   "cell_type": "markdown",
   "id": "31a13374-d7f2-4052-818e-157610093d85",
   "metadata": {},
   "source": [
    "**Note:** A large part of the time is spent in the transfer from the host to the device.\n",
    "\n",
    "### Let's benchmark azimuthal integration without this transfer:\n",
    "\n",
    "Just transfer the image to the GPU ... "
   ]
  },
  {
   "cell_type": "code",
   "execution_count": 11,
   "id": "a855afe5-35fd-4083-abee-6aee0d2a0741",
   "metadata": {},
   "outputs": [
    {
     "name": "stdout",
     "output_type": "stream",
     "text": [
      "1.74 ms ± 863 ns per loop (mean ± std. dev. of 7 runs, 1000 loops each)\n",
      "\n",
      "OpenCL kernel profiling statistics in milliseconds for: OCL_CSR_Integrator\n",
      "                                       Kernel name (count):      min   median      max     mean      std\n",
      "                               copy raw D->D image ( 8111):    0.140    0.142    0.155    0.142    0.001\n",
      "                              convert u32_to_float ( 8111):    0.140    0.141    0.150    0.141    0.000\n",
      "                                         memset_ng ( 8111):    0.003    0.003    0.011    0.003    0.000\n",
      "                                      corrections4 ( 8111):    0.422    0.431    0.440    0.429    0.003\n",
      "                                    csr_integrate4 ( 8111):    0.658    0.672    0.683    0.671    0.004\n",
      "                                  copy D->H avgint ( 8111):    0.001    0.001    0.009    0.001    0.000\n",
      "                                     copy D->H std ( 8111):    0.001    0.001    0.002    0.001    0.000\n",
      "                                     copy D->H sem ( 8111):    0.001    0.001    0.003    0.001    0.000\n",
      "                                 copy D->H merged8 ( 8111):    0.005    0.005    0.017    0.005    0.000\n",
      "________________________________________________________________________________\n",
      "                       Total OpenCL execution time        : 11325.825ms\n"
     ]
    }
   ],
   "source": [
    "frame_d = cla.to_device(engine.queue, frame)\n",
    "engine.set_profiling(True)\n",
    "tai_before = %timeit -o engine.integrate_ng(frame_d, solidangle=omega, solidangle_checksum=omega_crc)\n",
    "print(\"\\n\".join(engine.log_profile(stats=True)))\n",
    "engine.set_profiling(False)\n",
    "engine.reset_log()"
   ]
  },
  {
   "cell_type": "code",
   "execution_count": 12,
   "id": "e2e51a38-ffaa-433d-ae49-76c68b921f63",
   "metadata": {},
   "outputs": [
    {
     "name": "stdout",
     "output_type": "stream",
     "text": [
      "s8_to_float (32, 256)\n",
      "u8_to_float (32, 256)\n",
      "s16_to_float (32, 256)\n",
      "u16_to_float (32, 256)\n",
      "u32_to_float (32, 256)\n",
      "s32_to_float (32, 256)\n",
      "corrections (32, 256)\n",
      "corrections2 (32, 256)\n",
      "corrections3 (32, 256)\n",
      "corrections4 (32, 256)\n",
      "memset_out (32, 256)\n",
      "memset_ng (32, 256)\n",
      "memset1 (32, 256)\n",
      "memset2 (32, 256)\n",
      "memset4 (32, 256)\n",
      "memset8 (32, 256)\n",
      "memset_int (32, 256)\n",
      "csr_integrate (32, 256)\n",
      "csr_integrate_single (32, 256)\n",
      "csr_integrate4 (32, 256)\n",
      "csr_integrate4_single (32, 256)\n",
      "csr_sigma_clip4 (32, 256)\n"
     ]
    }
   ],
   "source": [
    "# Workgroup size ranges for the different kernels involved:\n",
    "for k,v in engine.workgroup_size.items():\n",
    "    print(k,v)"
   ]
  },
  {
   "cell_type": "code",
   "execution_count": 13,
   "id": "9c55568e-a5cc-4ed5-a617-b2709176dd7f",
   "metadata": {},
   "outputs": [
    {
     "name": "stdout",
     "output_type": "stream",
     "text": [
      "Workgroup_size:   32 1.82 ms ± 1.82 µs per loop (mean ± std. dev. of 7 runs, 1000 loops each)\n",
      "Workgroup_size:   64 1.63 ms ± 924 ns per loop (mean ± std. dev. of 7 runs, 1000 loops each)\n",
      "Workgroup_size:  128 1.63 ms ± 812 ns per loop (mean ± std. dev. of 7 runs, 1000 loops each)\n",
      "Workgroup_size:  256 1.55 ms ± 1.56 µs per loop (mean ± std. dev. of 7 runs, 1000 loops each)\n",
      "Workgroup_size:  512 1.54 ms ± 1.98 µs per loop (mean ± std. dev. of 7 runs, 1000 loops each)\n",
      "Workgroup_size: 1024 1.65 ms ± 1.08 µs per loop (mean ± std. dev. of 7 runs, 1000 loops each)\n"
     ]
    }
   ],
   "source": [
    "# Profiling the engine with various workgroup sizes:\n",
    "wg = 32\n",
    "wg_max = device.max_work_group_size\n",
    "res0 = ai.integrate1d(frame, nbins, method=(\"full\", \"csr\", \"opencl\", target))\n",
    "engine = ai.engines[res0.method].engine\n",
    "omega_crc = engine.on_device[\"solidangle\"]\n",
    "engine.reset_log()\n",
    "engine.set_profiling(True)\n",
    "logs = {}\n",
    "while wg<=wg_max:\n",
    "    print(f\"Workgroup_size: {wg:4d} \", end=\"\")\n",
    "    %timeit engine.integrate_ng(frame_d, solidangle=omega, solidangle_checksum=omega_crc, workgroup_size=wg)\n",
    "    logs[wg] = engine.log_profile(stats=True)\n",
    "    engine.reset_log()\n",
    "    wg*=2\n",
    "\n",
    "engine.set_profiling(False)"
   ]
  },
  {
   "cell_type": "code",
   "execution_count": 14,
   "id": "38380d86-e732-48b8-ac26-a9b573309a34",
   "metadata": {},
   "outputs": [
    {
     "name": "stdout",
     "output_type": "stream",
     "text": [
      "Kernel run-time (ms) as function of the workgroup size:              min   median      max     mean      std\n",
      "  32                                copy raw D->D image ( 8111):    0.139    0.142    0.155    0.142    0.001\n",
      "  64                                copy raw D->D image ( 8111):    0.139    0.142    0.155    0.142    0.001\n",
      " 128                                copy raw D->D image ( 8111):    0.139    0.142    0.155    0.142    0.001\n",
      " 256                                copy raw D->D image ( 8111):    0.140    0.142    0.156    0.142    0.001\n",
      " 512                                copy raw D->D image ( 8111):    0.139    0.142    0.154    0.142    0.001\n",
      "1024                                copy raw D->D image ( 8111):    0.139    0.142    0.159    0.142    0.001\n",
      "--------------------------------------------------\n",
      "  32                               convert u32_to_float ( 8111):    0.254    0.270    0.278    0.270    0.002\n",
      "  64                               convert u32_to_float ( 8111):    0.145    0.146    0.153    0.146    0.000\n",
      " 128                               convert u32_to_float ( 8111):    0.140    0.141    0.147    0.141    0.000\n",
      " 256                               convert u32_to_float ( 8111):    0.140    0.141    0.151    0.142    0.000\n",
      " 512                               convert u32_to_float ( 8111):    0.142    0.143    0.152    0.143    0.001\n",
      "1024                               convert u32_to_float ( 8111):    0.151    0.153    0.162    0.153    0.001\n",
      "--------------------------------------------------\n",
      "  32                                          memset_ng ( 8111):    0.003    0.003    0.010    0.003    0.000\n",
      "  64                                          memset_ng ( 8111):    0.002    0.003    0.011    0.003    0.000\n",
      " 128                                          memset_ng ( 8111):    0.003    0.003    0.010    0.003    0.000\n",
      " 256                                          memset_ng ( 8111):    0.003    0.003    0.010    0.003    0.000\n",
      " 512                                          memset_ng ( 8111):    0.003    0.003    0.012    0.003    0.000\n",
      "1024                                          memset_ng ( 8111):    0.003    0.003    0.012    0.003    0.001\n",
      "--------------------------------------------------\n",
      "  32                                       corrections4 ( 8111):    0.469    0.481    0.488    0.480    0.003\n",
      "  64                                       corrections4 ( 8111):    0.423    0.431    0.442    0.429    0.003\n",
      " 128                                       corrections4 ( 8111):    0.422    0.431    0.442    0.429    0.003\n",
      " 256                                       corrections4 ( 8111):    0.422    0.431    0.457    0.429    0.003\n",
      " 512                                       corrections4 ( 8111):    0.421    0.430    0.443    0.429    0.003\n",
      "1024                                       corrections4 ( 8111):    0.430    0.438    0.565    0.436    0.003\n",
      "--------------------------------------------------\n",
      "  32                                     csr_integrate4 ( 8111):    0.659    0.674    0.685    0.673    0.004\n",
      "  64                                     csr_integrate4 ( 8111):    0.554    0.568    0.582    0.568    0.004\n",
      " 128                                     csr_integrate4 ( 8111):    0.540    0.558    0.575    0.558    0.005\n",
      " 256                                     csr_integrate4 ( 8111):    0.471    0.481    0.494    0.481    0.004\n",
      " 512                                     csr_integrate4 ( 8111):    0.465    0.474    0.479    0.473    0.003\n",
      "1024                                     csr_integrate4 ( 8111):    0.553    0.572    0.591    0.573    0.005\n",
      "--------------------------------------------------\n",
      "  32                                   copy D->H avgint ( 8111):    0.001    0.001    0.009    0.001    0.000\n",
      "  64                                   copy D->H avgint ( 8111):    0.001    0.001    0.008    0.001    0.000\n",
      " 128                                   copy D->H avgint ( 8111):    0.001    0.001    0.009    0.001    0.000\n",
      " 256                                   copy D->H avgint ( 8111):    0.001    0.001    0.009    0.001    0.000\n",
      " 512                                   copy D->H avgint ( 8111):    0.001    0.001    0.008    0.001    0.000\n",
      "1024                                   copy D->H avgint ( 8111):    0.001    0.001    0.010    0.001    0.000\n",
      "--------------------------------------------------\n",
      "  32                                      copy D->H std ( 8111):    0.001    0.001    0.002    0.001    0.000\n",
      "  64                                      copy D->H std ( 8111):    0.001    0.001    0.002    0.001    0.000\n",
      " 128                                      copy D->H std ( 8111):    0.001    0.001    0.010    0.001    0.000\n",
      " 256                                      copy D->H std ( 8111):    0.001    0.001    0.002    0.001    0.000\n",
      " 512                                      copy D->H std ( 8111):    0.001    0.001    0.009    0.001    0.000\n",
      "1024                                      copy D->H std ( 8111):    0.001    0.001    0.002    0.001    0.000\n",
      "--------------------------------------------------\n",
      "  32                                      copy D->H sem ( 8111):    0.001    0.001    0.009    0.001    0.000\n",
      "  64                                      copy D->H sem ( 8111):    0.001    0.001    0.010    0.001    0.000\n",
      " 128                                      copy D->H sem ( 8111):    0.001    0.001    0.002    0.001    0.000\n",
      " 256                                      copy D->H sem ( 8111):    0.001    0.001    0.002    0.001    0.000\n",
      " 512                                      copy D->H sem ( 8111):    0.001    0.001    0.002    0.001    0.000\n",
      "1024                                      copy D->H sem ( 8111):    0.001    0.001    0.002    0.001    0.000\n",
      "--------------------------------------------------\n",
      "  32                                  copy D->H merged8 ( 8111):    0.005    0.005    0.014    0.005    0.000\n",
      "  64                                  copy D->H merged8 ( 8111):    0.005    0.005    0.014    0.005    0.000\n",
      " 128                                  copy D->H merged8 ( 8111):    0.005    0.005    0.014    0.005    0.000\n",
      " 256                                  copy D->H merged8 ( 8111):    0.005    0.005    0.014    0.005    0.000\n",
      " 512                                  copy D->H merged8 ( 8111):    0.005    0.005    0.014    0.005    0.000\n",
      "1024                                  copy D->H merged8 ( 8111):    0.005    0.005    0.015    0.005    0.000\n",
      "--------------------------------------------------\n"
     ]
    }
   ],
   "source": [
    "# Sort out the log results per kernel and per workgroup size:\n",
    "one_wg = logs[32]\n",
    "print(\"Kernel run-time (ms) as function of the workgroup size:              min   median      max     mean      std\")\n",
    "for kn in one_wg:\n",
    "    if \"):\" in kn and kn[-1].isdigit():\n",
    "        key = kn.split(\"(\")[0]\n",
    "        for wg,lg in logs.items():\n",
    "            for l in lg:\n",
    "                if key in l:\n",
    "                    print(f\"{wg:4d} {l}\")\n",
    "        print(\"-\"*50)"
   ]
  },
  {
   "cell_type": "markdown",
   "id": "23f8dfd8-f55c-4148-b783-f238081ba0af",
   "metadata": {},
   "source": [
    "**Note:** \n",
    "\n",
    "* A large fraction of the time is spent in the transfer from the CPU to the GPU.\n",
    "* Different kernels see different minimum execution time depending on their structure. For this Nvidia GTX1080Ti GPU (Pascal) one observes:\n",
    "\n",
    "  - simple conversion kernel works best with any large workgroup-size (128) \n",
    "  - *correction4* works best with any large workgroup-size (512) \n",
    "  - CSR sparse matrix multiplication is best used with a larger workgroup size (512)\n",
    "\n",
    "Those results also vary from device to device and between drivers !"
   ]
  },
  {
   "cell_type": "code",
   "execution_count": 15,
   "id": "c5909083-8ad1-4863-996c-8f92f684547e",
   "metadata": {},
   "outputs": [
    {
     "name": "stdout",
     "output_type": "stream",
     "text": [
      "1.39 ms ± 226 ns per loop (mean ± std. dev. of 7 runs, 1000 loops each)\n",
      "Workgroup size optimization allowed to gain: 20.4%\n"
     ]
    }
   ],
   "source": [
    "#tune the different workgroup sizes:\n",
    "engine.workgroup_size[\"s32_to_float\"] = (128, 128)\n",
    "engine.workgroup_size[\"u8_to_float\"] = (128, 128)\n",
    "engine.workgroup_size[\"s16_to_float\"] = (128, 128)\n",
    "engine.workgroup_size[\"s8_to_float\"] = (128, 128)\n",
    "engine.workgroup_size[\"u32_to_float\"] = (128, 128)\n",
    "engine.workgroup_size[\"u16_to_float\"] = (128, 128)\n",
    "engine.workgroup_size[\"corrections4\"] = (512, 512)\n",
    "engine.workgroup_size[\"csr_integrate4\"] = (512, 512)\n",
    "tai_after = %timeit -o engine.integrate_ng(frame_d, solidangle=omega, solidangle_checksum=omega_crc)\n",
    "print(f\"Workgroup size optimization allowed to gain: {(tai_before.average-tai_after.average)/tai_before.average*100:.1f}%\")"
   ]
  },
  {
   "cell_type": "markdown",
   "id": "27597f4a-725c-4f72-889c-26bd6a7c358b",
   "metadata": {},
   "source": [
    "## Preparation of some HDF5 file:\n",
    "\n",
    "* with many frames in them, \n",
    "* compressed in Bitshuffle-LZ4,\n",
    "* each chunk being one frame."
   ]
  },
  {
   "cell_type": "code",
   "execution_count": 16,
   "id": "4716f9cb-de3d-44cf-979e-12b442cceb8b",
   "metadata": {},
   "outputs": [
    {
     "data": {
      "text/plain": [
       "<TimeitResult : 1min 44s ± 0 ns per loop (mean ± std. dev. of 1 run, 1 loop each)>"
      ]
     },
     "execution_count": 16,
     "metadata": {},
     "output_type": "execute_result"
    }
   ],
   "source": [
    "%%timeit -r1 -n1 -o -q\n",
    "#Saving of a HDF5 file with many frames ...\n",
    "with h5py.File(filename, \"w\") as h:\n",
    "    ds = h.create_dataset(\"data\", shape=(nbframes,)+shape, chunks=(1,)+shape, dtype=dtype, **cmp) \n",
    "    for i in range(nbframes):\n",
    "        ds[i] = frame + i%500 #Each frame has a different value to prevent caching effects"
   ]
  },
  {
   "cell_type": "code",
   "execution_count": 17,
   "id": "918ce131-3486-4263-8584-c78c8c2b88d8",
   "metadata": {},
   "outputs": [
    {
     "name": "stdout",
     "output_type": "stream",
     "text": [
      "File size 9.241 GB with a compression ratio of 7.406x\n",
      "Write speed: 702.184 MB/s of uncompressed data, or 39.135 fps.\n"
     ]
    }
   ],
   "source": [
    "timing_write = _\n",
    "size=os.stat(filename).st_size\n",
    "print(f\"File size {size/(1024**3):.3f} GB with a compression ratio of {nbframes*numpy.prod(shape)*dtype.itemsize/size:.3f}x\")\n",
    "print(f\"Write speed: {nbframes*numpy.prod(shape)*dtype.itemsize/(1e6*timing_write.best):.3f} MB/s of uncompressed data, or {nbframes/timing_write.best:.3f} fps.\")"
   ]
  },
  {
   "cell_type": "code",
   "execution_count": 18,
   "id": "e559f3a9-4890-47ef-959d-6f0b099963c9",
   "metadata": {},
   "outputs": [
    {
     "data": {
      "text/plain": [
       "<TimeitResult : 1min 6s ± 0 ns per loop (mean ± std. dev. of 1 run, 1 loop each)>"
      ]
     },
     "execution_count": 18,
     "metadata": {},
     "output_type": "execute_result"
    }
   ],
   "source": [
    "%%timeit -r1 -n1 -o -q\n",
    "#Reading all frames and decompressing them\n",
    "buffer = numpy.zeros(shape, dtype=dtype)\n",
    "with h5py.File(filename, \"r\") as h:\n",
    "    ds = h[\"data\"]\n",
    "    for i in range(nbframes):\n",
    "        ds.read_direct(buffer, numpy.s_[i,:,:], numpy.s_[:,:])"
   ]
  },
  {
   "cell_type": "code",
   "execution_count": 19,
   "id": "3f6a4b10-8fe5-4450-8272-4a98b7a22de4",
   "metadata": {},
   "outputs": [
    {
     "name": "stdout",
     "output_type": "stream",
     "text": [
      "Read speed: 1110.127 MB/s of uncompressed data, or 61.870 fps.\n"
     ]
    }
   ],
   "source": [
    "timing_read1 = _\n",
    "print(f\"Read speed: {nbframes*numpy.prod(shape)*dtype.itemsize/(1e6*timing_read1.best):.3f} MB/s of uncompressed data, or {nbframes/timing_read1.best:.3f} fps.\")"
   ]
  },
  {
   "cell_type": "code",
   "execution_count": 20,
   "id": "557956b5-5eec-44ea-8f13-0d76c6d88200",
   "metadata": {},
   "outputs": [
    {
     "name": "stdout",
     "output_type": "stream",
     "text": [
      "Compression ratio: 9.097x\n",
      "13.8 ms ± 8.51 µs per loop (mean ± std. dev. of 7 runs, 100 loops each)\n",
      "Decompression speed: 72.298 fps\n"
     ]
    }
   ],
   "source": [
    "# Time for decompressing one frame:\n",
    "chunk = bitshuffle.compress_lz4(frame,0)\n",
    "print(f\"Compression ratio: {frame.nbytes/len(chunk):.3f}x\")\n",
    "timing_decompress = %timeit -o bitshuffle.decompress_lz4(chunk, frame.shape, frame.dtype, 0)\n",
    "print(f\"Decompression speed: {1/timing_decompress.best:.3f} fps\")"
   ]
  },
  {
   "cell_type": "code",
   "execution_count": 21,
   "id": "9727f861-eeec-4ec6-8c8c-57e99618474a",
   "metadata": {},
   "outputs": [
    {
     "data": {
      "text/plain": [
       "<TimeitResult : 4.61 s ± 0 ns per loop (mean ± std. dev. of 1 run, 1 loop each)>"
      ]
     },
     "execution_count": 21,
     "metadata": {},
     "output_type": "execute_result"
    }
   ],
   "source": [
    "%%timeit -r1 -n1 -o -q\n",
    "#Reading all frames without decompressing them\n",
    "with h5py.File(filename, \"r\") as h:\n",
    "    ds = h[\"data\"]\n",
    "    for i in range(ds.id.get_num_chunks()):\n",
    "        filter_mask, chunk = ds.id.read_direct_chunk(ds.id.get_chunk_info(i).chunk_offset)"
   ]
  },
  {
   "cell_type": "code",
   "execution_count": 22,
   "id": "a8f957e5-f3cc-41a4-9502-dc98f5e31dd7",
   "metadata": {},
   "outputs": [
    {
     "name": "stdout",
     "output_type": "stream",
     "text": [
      "Read speed: 2151.490 MB/s of compressed data.\n",
      "HDF5 read speed (without decompression): 888.096 fps.\n"
     ]
    }
   ],
   "source": [
    "timing_read2 = _\n",
    "print(f\"Read speed: {size/(1e6*timing_read2.best):.3f} MB/s of compressed data.\")\n",
    "print(f\"HDF5 read speed (without decompression): {nbframes/timing_read2.best:.3f} fps.\")"
   ]
  },
  {
   "cell_type": "code",
   "execution_count": 23,
   "id": "7d75885a-0313-47fb-95e3-667448cdd658",
   "metadata": {},
   "outputs": [
    {
     "name": "stdout",
     "output_type": "stream",
     "text": [
      "The maximum throughput considering reading, decompression and integration is 46.057 fps.\n"
     ]
    }
   ],
   "source": [
    "timimg_sum = timing_integration.best + timing_read2.best/nbframes+timing_decompress.best\n",
    "print(f\"The maximum throughput considering reading, decompression and integration is {1/timimg_sum:.3f} fps.\")"
   ]
  },
  {
   "cell_type": "markdown",
   "id": "296b9c59-a957-4e75-ac29-808fc4c4a952",
   "metadata": {},
   "source": [
    "**Summary:**\n",
    "\n",
    "* Read speed: 2100 fps\n",
    "* Read + decompress: 93 fps\n",
    "* Read + decomperss + integrate: 55 fps.\n",
    "\n",
    "## Decompression on the GPU\n",
    "\n",
    "Decompression of the GPU has 3 main advantages:\n",
    "\n",
    "* Transfer less data from the the host to the device since it is compressed\n",
    "* Inflated data on the device remain on the device, thus \n",
    "* Most of the decompression algorithm is performed in parallel and exploits the GPU efficiently\n",
    "\n",
    "There is one part of the decompression which remains serial, the part searching for the begining of each of the compressed blocks.\n",
    "\n",
    "**Nota:** This feature requires silx 1.2 !"
   ]
  },
  {
   "cell_type": "code",
   "execution_count": 24,
   "id": "5f9f2220-0931-497f-b5df-993341202c0e",
   "metadata": {},
   "outputs": [],
   "source": [
    "# Read one chunk\n",
    "with h5py.File(filename, \"r\") as h:\n",
    "    ds = h[\"data\"]\n",
    "    i=0\n",
    "    filter_mask, chunk = ds.id.read_direct_chunk(ds.id.get_chunk_info(i).chunk_offset)"
   ]
  },
  {
   "cell_type": "code",
   "execution_count": 25,
   "id": "c1fea01a-beaa-4727-9147-59cef1d4dd0b",
   "metadata": {},
   "outputs": [],
   "source": [
    "gpu_decompressor = BitshuffleLz4(len(chunk), frame.size, dtype=frame.dtype, ctx=engine.ctx)"
   ]
  },
  {
   "cell_type": "code",
   "execution_count": 26,
   "id": "06356a14-9ba5-4d72-b0c4-652626c46de5",
   "metadata": {},
   "outputs": [
    {
     "name": "stdout",
     "output_type": "stream",
     "text": [
      "Workgroup size   32 :  3.07 ms ± 132 µs per loop (mean ± std. dev. of 7 runs, 100 loops each)\n",
      "Workgroup size   64 :  2.61 ms ± 3.58 µs per loop (mean ± std. dev. of 7 runs, 100 loops each)\n",
      "Workgroup size  128 :  2.41 ms ± 4.56 µs per loop (mean ± std. dev. of 7 runs, 100 loops each)\n",
      "Workgroup size  256 :  2.38 ms ± 2.74 µs per loop (mean ± std. dev. of 7 runs, 100 loops each)\n",
      "Workgroup size  512 :  2.52 ms ± 5.23 µs per loop (mean ± std. dev. of 7 runs, 100 loops each)\n",
      "Workgroup size 1024 :  3 ms ± 3.89 µs per loop (mean ± std. dev. of 7 runs, 100 loops each)\n"
     ]
    }
   ],
   "source": [
    "#Tune the decompressor for the fastest speed:\n",
    "wg = 32\n",
    "wg_max = device.max_work_group_size\n",
    "gpu_decompressor.set_profiling(True)\n",
    "logs = {}\n",
    "while wg<=wg_max:\n",
    "    print(f\"Workgroup size {wg:4d} : \", end=\" \")\n",
    "    %timeit gpu_decompressor.decompress(chunk, wg=wg); gpu_decompressor.queue.finish()\n",
    "    logs[wg] = gpu_decompressor.log_profile(stats=True)\n",
    "    gpu_decompressor.reset_log()\n",
    "    wg*=2\n",
    "    \n",
    "gpu_decompressor.set_profiling(False)"
   ]
  },
  {
   "cell_type": "code",
   "execution_count": 27,
   "id": "01a423e2-cef2-4668-8b8e-e1f9fdf90ff2",
   "metadata": {},
   "outputs": [
    {
     "name": "stdout",
     "output_type": "stream",
     "text": [
      "Kernel run-time (ms) as function of the workgroup size:              min   median      max     mean      std\n",
      "  32                                    copy raw H -> D (  811):    0.376    0.575    0.906    0.563    0.075\n",
      "  64                                    copy raw H -> D (  811):    0.522    0.559    0.695    0.560    0.015\n",
      " 128                                    copy raw H -> D (  811):    0.513    0.549    0.613    0.546    0.019\n",
      " 256                                    copy raw H -> D (  811):    0.513    0.549    0.617    0.545    0.018\n",
      " 512                                    copy raw H -> D (  811):    0.521    0.555    0.627    0.556    0.014\n",
      "1024                                    copy raw H -> D (  811):    0.529    0.576    0.717    0.568    0.022\n",
      "--------------------------------------------------\n",
      "  32                                        LZ4 unblock (  811):    0.707    0.720    0.970    0.733    0.052\n",
      "  64                                        LZ4 unblock (  811):    0.708    0.722    0.752    0.723    0.008\n",
      " 128                                        LZ4 unblock (  811):    0.711    0.723    0.753    0.724    0.007\n",
      " 256                                        LZ4 unblock (  811):    0.709    0.723    0.752    0.723    0.007\n",
      " 512                                        LZ4 unblock (  811):    0.703    0.716    0.748    0.717    0.007\n",
      "1024                                        LZ4 unblock (  811):    0.694    0.710    0.739    0.710    0.007\n",
      "--------------------------------------------------\n",
      "  32                                     LZ4 decompress (  811):    1.055    1.063    1.646    1.093    0.131\n",
      "  64                                     LZ4 decompress (  811):    0.676    0.686    0.690    0.684    0.003\n",
      " 128                                     LZ4 decompress (  811):    0.507    0.515    0.522    0.514    0.003\n",
      " 256                                     LZ4 decompress (  811):    0.480    0.487    0.489    0.486    0.003\n",
      " 512                                     LZ4 decompress (  811):    0.597    0.605    0.610    0.603    0.003\n",
      "1024                                     LZ4 decompress (  811):    1.060    1.068    1.076    1.066    0.003\n",
      "--------------------------------------------------\n"
     ]
    }
   ],
   "source": [
    "# Sort out the log results per workgroup size:\n",
    "one_wg = logs[32]\n",
    "print(\"Kernel run-time (ms) as function of the workgroup size:              min   median      max     mean      std\")\n",
    "for kn in one_wg:\n",
    "    if \"):\" in kn and kn[-1].isdigit():\n",
    "        key = kn.split(\"(\")[0]\n",
    "        for wg,lg in logs.items():\n",
    "            for l in lg:\n",
    "                if key in l:\n",
    "                    print(f\"{wg:4d} {l}\")\n",
    "        print(\"-\"*50)"
   ]
  },
  {
   "cell_type": "code",
   "execution_count": 28,
   "id": "f014a129-0a8d-485a-9fc8-5b91cb08bd00",
   "metadata": {},
   "outputs": [],
   "source": [
    "#Set the workgroup size (called block in cuda) to the best value we found previoulsy.\n",
    "gpu_decompressor.block_size = 256 "
   ]
  },
  {
   "cell_type": "markdown",
   "id": "be82dd1e-259b-4001-abfe-a10965059133",
   "metadata": {},
   "source": [
    "**Note:** There is only one kernel (LZ4 decompress) which deserves having the workgroup size tuned, this is wy we set it globally.\n",
    "\n",
    "## Assemble optimized OpenCL blocks and integrate all frames from a HDF5-file"
   ]
  },
  {
   "cell_type": "code",
   "execution_count": 29,
   "id": "cfcc3806-a5f9-4451-b0d9-1fa2c6c3fbe4",
   "metadata": {},
   "outputs": [
    {
     "name": "stdout",
     "output_type": "stream",
     "text": [
      "3.94 ms ± 175 µs per loop (mean ± std. dev. of 7 runs, 100 loops each)\n"
     ]
    }
   ],
   "source": [
    "#Build a pipeline with decompression and integration on the GPU:\n",
    "%timeit engine.integrate_ng(gpu_decompressor(chunk), solidangle=omega, solidangle_checksum=omega_crc)"
   ]
  },
  {
   "cell_type": "code",
   "execution_count": 30,
   "id": "d2b3a31a-62ef-4a2a-8ed8-6deedc3893ca",
   "metadata": {},
   "outputs": [],
   "source": [
    "result = numpy.empty((nbframes, nbins), dtype=numpy.float32)"
   ]
  },
  {
   "cell_type": "code",
   "execution_count": 31,
   "id": "d187fb05-c447-49ba-9ce8-ce3e3aae63b2",
   "metadata": {},
   "outputs": [
    {
     "data": {
      "text/plain": [
       "<TimeitResult : 22.8 s ± 0 ns per loop (mean ± std. dev. of 1 run, 1 loop each)>"
      ]
     },
     "execution_count": 31,
     "metadata": {},
     "output_type": "execute_result"
    }
   ],
   "source": [
    "%%timeit -r1 -n1 -o -q\n",
    "# Process a complete stack:\n",
    "with h5py.File(filename, \"r\") as h:\n",
    "    ds = h[\"data\"]\n",
    "    for i in range(ds.id.get_num_chunks()):\n",
    "        filter_mask, chunk = ds.id.read_direct_chunk(ds.id.get_chunk_info(i).chunk_offset)\n",
    "        result[i] = engine.integrate_ng(gpu_decompressor(chunk), solidangle=omega, solidangle_checksum=omega_crc).intensity"
   ]
  },
  {
   "cell_type": "code",
   "execution_count": 32,
   "id": "e4033694-9cd1-4aae-b388-cadbf478363a",
   "metadata": {},
   "outputs": [
    {
     "name": "stdout",
     "output_type": "stream",
     "text": [
      "Processing speed when decompression occures on GPU: 179.754 fps which represents at speed-up of 3.903x.\n"
     ]
    }
   ],
   "source": [
    "timing_process_gpu = _\n",
    "print(f\"Processing speed when decompression occures on GPU: {nbframes/timing_process_gpu.best:.3f} fps which represents at speed-up of {timimg_sum*nbframes/timing_process_gpu.best:.3f}x.\")"
   ]
  },
  {
   "cell_type": "markdown",
   "id": "89f85542-5088-4469-abb2-06cde677fdda",
   "metadata": {},
   "source": [
    "## Display some results\n",
    "Since the input data were all synthetic and similar, no great science is expected from this... but one can ensure each frame differs slightly from the neighbors with a pattern of 500 frames. "
   ]
  },
  {
   "cell_type": "code",
   "execution_count": 33,
   "id": "8650407f-a6ce-40ac-875e-f4f0f0c07a0d",
   "metadata": {},
   "outputs": [
    {
     "data": {
      "text/plain": [
       "<matplotlib.image.AxesImage at 0x7fe555cea670>"
      ]
     },
     "execution_count": 33,
     "metadata": {},
     "output_type": "execute_result"
    },
    {
     "data": {
      "image/png": "[encoded data removed]",
      "text/plain": [
       "<Figure size 576x576 with 1 Axes>"
      ]
     },
     "metadata": {
      "needs_background": "light"
     },
     "output_type": "display_data"
    }
   ],
   "source": [
    "fig,ax = subplots(figsize=(8,8))\n",
    "ax.imshow(result)"
   ]
  },
  {
   "cell_type": "markdown",
   "id": "5013c60f-f973-405a-8f6f-9b8dd448a3d6",
   "metadata": {},
   "source": [
    "## Conclusion\n",
    "\n",
    "Reading Bitshuffle-LZ4 data can be off-loaded to the GPU, this is especially appealing when downstream processing requires also GPU-computing llike azimuthal integration. \n",
    "\n",
    "The procedure is simpler than the multi-threading approach: no queue, no threads, ... but requires a GPU.\n",
    "\n",
    "The performances obtained on a (not so recent Tesla V100) is similar to a much more recent 2x32-cores computer: ~500 fps\n",
    "\n",
    "Those performances can be further parallelized using multiprocessing."
   ]
  },
  {
   "cell_type": "code",
   "execution_count": 34,
   "id": "cc6f2236-c77e-4add-adf6-4d0929bb5b46",
   "metadata": {},
   "outputs": [
    {
     "name": "stdout",
     "output_type": "stream",
     "text": [
      "Total processing time: 354.827 s\n"
     ]
    }
   ],
   "source": [
    "print(f\"Total processing time: {time.time()-start_time:.3f} s\")"
   ]
  },
  {
   "cell_type": "code",
   "execution_count": null,
   "id": "b313a24c-26cd-48df-b619-8b0fecd19b7e",
   "metadata": {},
   "outputs": [],
   "source": []
  }
 ],
 "metadata": {
  "kernelspec": {
   "display_name": "Python 3 (ipykernel)",
   "language": "python",
   "name": "python3"
  },
  "language_info": {
   "codemirror_mode": {
    "name": "ipython",
    "version": 3
   },
   "file_extension": ".py",
   "mimetype": "text/x-python",
   "name": "python",
   "nbconvert_exporter": "python",
   "pygments_lexer": "ipython3",
   "version": "3.8.10"
  }
 },
 "nbformat": 4,
 "nbformat_minor": 5
}
