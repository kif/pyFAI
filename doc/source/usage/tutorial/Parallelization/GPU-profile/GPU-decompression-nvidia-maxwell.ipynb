{
 "cells": [
  {
   "cell_type": "markdown",
   "id": "aba2ed24-0160-49f3-9001-5d8a09fb23b5",
   "metadata": {},
   "source": [
    "# Image decompression and azimuthal integration on the GPU\n",
    "\n",
    "This tutorial explains how it is possible to speed-up azimuthal integration by speeding-up the critical part: the data transfer to the GPU.\n",
    "\n",
    "For this tutorial, very recent version of `silx` and `pyFAI` are needed, newer than fall 2022.\n",
    "\n",
    "**Credits:**\n",
    "\n",
    "* Thomas Vincent (ESRF) for the HDF5 direct chunk read and the Jupyter-slurm\n",
    "* Jon Wright (ESRF) for the initial prototype of the bitshuffle-LZ4 decompression on the GPU\n",
    "* Pierre Paleo (ESRF) for struggling with this kind of stuff with GPUs\n",
    "\n",
    "**Nota:** a (fast) GPU is needed for this tutorial with OpenCL properly setup !\n",
    "\n",
    "The example taken here is the same as the multithreading example: 4096 frames of Eiger_4M in one file to be decompressed and integrated."
   ]
  },
  {
   "cell_type": "code",
   "execution_count": 1,
   "id": "35d7f634-2c20-4ed0-8e2e-555de196df8d",
   "metadata": {},
   "outputs": [],
   "source": [
    "%matplotlib inline"
   ]
  },
  {
   "cell_type": "code",
   "execution_count": 2,
   "id": "50803786-8f10-46d8-8fdc-405a59c235cf",
   "metadata": {},
   "outputs": [
    {
     "data": {
      "text/plain": [
       "OpenCL devices:\n",
       "[0] NVIDIA CUDA: (0,0) NVIDIA GeForce GT 1030, (0,1) NVIDIA GeForce GTX 750 Ti\n",
       "[1] AMD Accelerated Parallel Processing: (1,0) gfx900:xnack-\n",
       "[2] Intel(R) OpenCL: (2,0) AMD EPYC 7262 8-Core Processor"
      ]
     },
     "execution_count": 2,
     "metadata": {},
     "output_type": "execute_result"
    }
   ],
   "source": [
    "import sys, os, collections, struct, time\n",
    "os.environ[\"PYOPENCL_COMPILER_OUTPUT\"] = \"1\"\n",
    "import numpy, pyFAI\n",
    "import h5py, hdf5plugin\n",
    "from matplotlib.pyplot import subplots\n",
    "import bitshuffle\n",
    "import pyopencl.array as cla\n",
    "import silx\n",
    "from silx.opencl import ocl\n",
    "from silx.opencl.codec.bitshuffle_lz4 import BitshuffleLz4\n",
    "start_time = time.time()\n",
    "ocl"
   ]
  },
  {
   "cell_type": "code",
   "execution_count": 3,
   "id": "9e4395dc-8944-4276-ac98-66d8174e48d4",
   "metadata": {},
   "outputs": [
    {
     "name": "stdout",
     "output_type": "stream",
     "text": [
      "Working on device: NVIDIA GeForce GTX 750 Ti\n"
     ]
    }
   ],
   "source": [
    "#Here we select the OpenCL device\n",
    "target = (0,1)\n",
    "device = ocl.platforms[target[0]].devices[target[1]]\n",
    "print(\"Working on device:\", device)"
   ]
  },
  {
   "cell_type": "markdown",
   "id": "8d74f81c-7f0e-4af2-a672-59b5bd972377",
   "metadata": {},
   "source": [
    "## Setup the enviroment:\n",
    "\n",
    "This is a purely virtual experiment, we will use an Eiger 4M detector with data integrated over 1000 bins. Those parameters can be tuned.\n",
    "\n",
    "Random data are generated, to keep this file fairly small, it is generated with small numbers which compress nicely. The speed of the drive where you will put the file is likely to have a huge impact !"
   ]
  },
  {
   "cell_type": "code",
   "execution_count": 4,
   "id": "c578b3e4-5912-4a02-9b4c-349872469324",
   "metadata": {},
   "outputs": [
    {
     "data": {
      "text/plain": [
       "HDF5PluginBuildConfig(openmp=False, native=True, sse2=True, avx2=True, cpp11=True, filter_file_extension='.so', embedded_filters=('blosc', 'bshuf', 'bzip2', 'fcidecomp', 'lz4', 'zfp', 'zstd'))"
      ]
     },
     "execution_count": 4,
     "metadata": {},
     "output_type": "execute_result"
    }
   ],
   "source": [
    "det = pyFAI.detector_factory(\"eiger_4M\")\n",
    "shape = det.shape\n",
    "dtype = numpy.dtype(\"uint32\")\n",
    "filename = \"/tmp/big.h5\"\n",
    "nbins = 1000\n",
    "cmp = hdf5plugin.Bitshuffle()\n",
    "hdf5plugin.config"
   ]
  },
  {
   "cell_type": "code",
   "execution_count": 5,
   "id": "b883ae1c-0549-40cd-9753-ff2d11cb6448",
   "metadata": {},
   "outputs": [
    {
     "name": "stdout",
     "output_type": "stream",
     "text": [
      "Number of frames the computer can host in memory: 3754.675\n"
     ]
    }
   ],
   "source": [
    "mem_bytes = os.sysconf('SC_PAGE_SIZE') * os.sysconf('SC_PHYS_PAGES')\n",
    "print(f\"Number of frames the computer can host in memory: {mem_bytes/(numpy.prod(shape)*dtype.itemsize):.3f}\")\n",
    "if os.environ.get('SLURM_MEM_PER_NODE'):\n",
    "    print(f\"Number of frames the computer can host in memory with SLURM restrictions: {int(os.environ['SLURM_MEM_PER_NODE'])*(1<<20)/(numpy.prod(shape)*dtype.itemsize):.3f}\")"
   ]
  },
  {
   "cell_type": "code",
   "execution_count": 6,
   "id": "a2c253af-504f-4909-b333-235c218b00e2",
   "metadata": {},
   "outputs": [],
   "source": [
    "#The computer being limited to 64G of RAM, the number of frames actually possible is 3800.\n",
    "nbframes = 4096 # slightly larger than the maximum achievable ! Such a dataset should not host in memory."
   ]
  },
  {
   "cell_type": "code",
   "execution_count": 7,
   "id": "1b5e3e71-4c5a-4c67-96b3-91e602deb027",
   "metadata": {},
   "outputs": [],
   "source": [
    "#Prepare a frame with little count so that it compresses well\n",
    "geo = {\"detector\": det, \n",
    "       \"wavelength\": 1e-10, \n",
    "       \"rot3\":0} #work around a bug https://github.com/silx-kit/pyFAI/pull/1749\n",
    "ai = pyFAI.load(geo)\n",
    "omega = ai.solidAngleArray()\n",
    "q = numpy.arange(15)\n",
    "img = ai.calcfrom1d(q, 100/(1+q*q))\n",
    "frame = numpy.random.poisson(img).astype(dtype)"
   ]
  },
  {
   "cell_type": "code",
   "execution_count": 8,
   "id": "b4fb2aa7-4158-488f-80e0-690283858f8f",
   "metadata": {},
   "outputs": [
    {
     "data": {
      "image/png": "[encoded data removed]",
      "text/plain": [
       "<Figure size 432x288 with 1 Axes>"
      ]
     },
     "metadata": {
      "needs_background": "light"
     },
     "output_type": "display_data"
    }
   ],
   "source": [
    "# display the image\n",
    "fig,ax = subplots()\n",
    "ax.imshow(frame)\n",
    "pass"
   ]
  },
  {
   "cell_type": "code",
   "execution_count": 9,
   "id": "fdcb69d3-da9d-4215-919f-a2fc648b845e",
   "metadata": {},
   "outputs": [
    {
     "name": "stdout",
     "output_type": "stream",
     "text": [
      "Performances of the different algorithms for azimuthal integration of Eiger 4M image on the CPU\n",
      "Using algorithm histogram : 655 ms ± 3.09 ms per loop (mean ± std. dev. of 7 runs, 1 loop each)\n",
      "Using algorithm csc       : 46 ms ± 102 µs per loop (mean ± std. dev. of 7 runs, 1 loop each)\n",
      "Using algorithm csr       : 64.7 ms ± 1.99 ms per loop (mean ± std. dev. of 7 runs, 1 loop each)\n",
      "Performances of the different algorithms for azimuthal integration of Eiger 4M image on the GPU:  NVIDIA GeForce GTX 750 Ti\n",
      "Using algorithm csr       : 5.95 ms ± 201 µs per loop (mean ± std. dev. of 7 runs, 1 loop each)\n"
     ]
    }
   ],
   "source": [
    "print(\"Performances of the different algorithms for azimuthal integration of Eiger 4M image on the CPU\")\n",
    "for algo in (\"histogram\", \"csc\", \"csr\"):\n",
    "    print(f\"Using algorithm {algo:10s}:\", end=\" \")\n",
    "    %timeit ai.integrate1d(frame, nbins, method=(\"full\", algo, \"cython\"))\n",
    "print(\"Performances of the different algorithms for azimuthal integration of Eiger 4M image on the GPU: \", device)\n",
    "print(f\"Using algorithm {algo:10s}:\", end=\" \")\n",
    "timing_integration = %timeit -o ai.integrate1d(frame, nbins, method=(\"full\", algo, \"opencl\", target))"
   ]
  },
  {
   "cell_type": "markdown",
   "id": "9bc9ef05-f255-4fa5-b7b7-6e66f750a09d",
   "metadata": {},
   "source": [
    "**Note:** The full pixel splitting is time consuming and handicaps the histogram algorithm while both sparse-matrix methods are much faster since they cache this calculation in the sparse matrix.\n",
    "\n",
    "On the AMD-EPYC processor, with its large cache, the serial CSC algorithm is much faster than the CSR despite the later uses 8 cores !!!"
   ]
  },
  {
   "cell_type": "code",
   "execution_count": 10,
   "id": "7ee60d8e-4bcc-458c-bd3d-e48724881142",
   "metadata": {},
   "outputs": [
    {
     "name": "stdout",
     "output_type": "stream",
     "text": [
      "5.87 ms ± 70.8 µs per loop (mean ± std. dev. of 7 runs, 100 loops each)\n",
      "\n",
      "OpenCL kernel profiling statistics in milliseconds for: OCL_CSR_Integrator\n",
      "                                       Kernel name (count):      min   median      max     mean      std\n",
      "                               copy raw H->D image (  811):    1.415    1.416    1.866    1.421    0.024\n",
      "                              convert u32_to_float (  811):    0.487    0.500    0.871    0.504    0.022\n",
      "                                         memset_ng (  811):    0.005    0.006    0.006    0.006    0.000\n",
      "                                      corrections4 (  811):    1.517    1.546    2.226    1.593    0.128\n",
      "                                    csr_integrate4 (  811):    1.926    1.944    3.731    2.055    0.260\n",
      "                                  copy D->H avgint (  811):    0.002    0.002    0.002    0.002    0.000\n",
      "                                     copy D->H std (  811):    0.002    0.002    0.003    0.002    0.000\n",
      "                                     copy D->H sem (  811):    0.001    0.001    0.002    0.002    0.000\n",
      "                                 copy D->H merged8 (  811):    0.003    0.003    0.004    0.003    0.000\n",
      "________________________________________________________________________________\n",
      "                       Total OpenCL execution time        : 4530.884ms\n"
     ]
    }
   ],
   "source": [
    "# How is the time spend when integrating on GPU (with default parameters) ?\n",
    "res0 = ai.integrate1d(frame, nbins, method=(\"full\", \"csr\", \"opencl\", target))\n",
    "engine = ai.engines[res0.method].engine\n",
    "engine.reset_log()\n",
    "engine.set_profiling(True)\n",
    "omega_crc = engine.on_device[\"solidangle\"]\n",
    "%timeit engine.integrate_ng(frame, solidangle=omega, solidangle_checksum=omega_crc)\n",
    "print(\"\\n\".join(engine.log_profile(stats=True)))\n",
    "engine.set_profiling(False)\n",
    "engine.reset_log()"
   ]
  },
  {
   "cell_type": "markdown",
   "id": "31a13374-d7f2-4052-818e-157610093d85",
   "metadata": {},
   "source": [
    "**Note:** A large part of the time is spent in the transfer from the host to the device.\n",
    "\n",
    "### Let's benchmark azimuthal integration without this transfer:\n",
    "\n",
    "Just transfer the image to the GPU ... "
   ]
  },
  {
   "cell_type": "code",
   "execution_count": 11,
   "id": "a855afe5-35fd-4083-abee-6aee0d2a0741",
   "metadata": {},
   "outputs": [
    {
     "name": "stdout",
     "output_type": "stream",
     "text": [
      "4.88 ms ± 156 µs per loop (mean ± std. dev. of 7 runs, 100 loops each)\n",
      "\n",
      "OpenCL kernel profiling statistics in milliseconds for: OCL_CSR_Integrator\n",
      "                                       Kernel name (count):      min   median      max     mean      std\n",
      "                               copy raw D->D image (  811):    0.483    0.494    0.572    0.497    0.013\n",
      "                              convert u32_to_float (  811):    0.489    0.496    0.983    0.505    0.042\n",
      "                                         memset_ng (  811):    0.005    0.006    0.303    0.009    0.029\n",
      "                                      corrections4 (  811):    1.519    1.557    3.362    1.636    0.225\n",
      "                                    csr_integrate4 (  811):    1.924    1.948    3.729    2.068    0.269\n",
      "                                  copy D->H avgint (  811):    0.002    0.002    0.002    0.002    0.000\n",
      "                                     copy D->H std (  811):    0.002    0.002    0.002    0.002    0.000\n",
      "                                     copy D->H sem (  811):    0.002    0.002    0.002    0.002    0.000\n",
      "                                 copy D->H merged8 (  811):    0.003    0.003    0.004    0.004    0.000\n",
      "________________________________________________________________________________\n",
      "                       Total OpenCL execution time        : 3830.694ms\n"
     ]
    }
   ],
   "source": [
    "frame_d = cla.to_device(engine.queue, frame)\n",
    "engine.set_profiling(True)\n",
    "tai_before = %timeit -o engine.integrate_ng(frame_d, solidangle=omega, solidangle_checksum=omega_crc)\n",
    "print(\"\\n\".join(engine.log_profile(stats=True)))\n",
    "engine.set_profiling(False)\n",
    "engine.reset_log()"
   ]
  },
  {
   "cell_type": "code",
   "execution_count": 12,
   "id": "e2e51a38-ffaa-433d-ae49-76c68b921f63",
   "metadata": {},
   "outputs": [
    {
     "name": "stdout",
     "output_type": "stream",
     "text": [
      "s8_to_float (32, 256)\n",
      "u8_to_float (32, 256)\n",
      "s16_to_float (32, 256)\n",
      "u16_to_float (32, 256)\n",
      "u32_to_float (32, 256)\n",
      "s32_to_float (32, 256)\n",
      "corrections (32, 256)\n",
      "corrections2 (32, 256)\n",
      "corrections3 (32, 256)\n",
      "corrections4 (32, 256)\n",
      "memset_out (32, 256)\n",
      "memset_ng (32, 256)\n",
      "memset1 (32, 256)\n",
      "memset2 (32, 256)\n",
      "memset4 (32, 256)\n",
      "memset8 (32, 256)\n",
      "memset_int (32, 256)\n",
      "csr_integrate (32, 256)\n",
      "csr_integrate_single (32, 256)\n",
      "csr_integrate4 (32, 256)\n",
      "csr_integrate4_single (32, 256)\n",
      "csr_sigma_clip4 (32, 256)\n"
     ]
    }
   ],
   "source": [
    "# Workgroup size ranges for the different kernels involved:\n",
    "for k,v in engine.workgroup_size.items():\n",
    "    print(k,v)"
   ]
  },
  {
   "cell_type": "code",
   "execution_count": 13,
   "id": "9c55568e-a5cc-4ed5-a617-b2709176dd7f",
   "metadata": {},
   "outputs": [
    {
     "name": "stdout",
     "output_type": "stream",
     "text": [
      "\n",
      "Workgroup_size: 32 5.61 ms ± 157 µs per loop (mean ± std. dev. of 7 runs, 100 loops each)\n",
      "\n",
      "OpenCL kernel profiling statistics in milliseconds for: OCL_CSR_Integrator\n",
      "                                       Kernel name (count):      min   median      max     mean      std\n",
      "                               copy raw D->D image (  811):    0.485    0.493    0.602    0.496    0.013\n",
      "                              convert u32_to_float (  811):    0.827    0.833    1.783    0.880    0.136\n",
      "                                         memset_ng (  811):    0.006    0.006    0.008    0.006    0.000\n",
      "                                      corrections4 (  811):    1.916    1.924    3.202    2.027    0.203\n",
      "                                    csr_integrate4 (  811):    1.930    1.948    3.204    2.047    0.206\n",
      "                                  copy D->H avgint (  811):    0.002    0.002    0.002    0.002    0.000\n",
      "                                     copy D->H std (  811):    0.002    0.002    0.002    0.002    0.000\n",
      "                                     copy D->H sem (  811):    0.002    0.002    0.002    0.002    0.000\n",
      "                                 copy D->H merged8 (  811):    0.003    0.003    0.005    0.004    0.000\n",
      "________________________________________________________________________________\n",
      "                       Total OpenCL execution time        : 4432.449ms\n",
      "**************************************************\n",
      "\n",
      "Workgroup_size: 64 4.71 ms ± 103 µs per loop (mean ± std. dev. of 7 runs, 100 loops each)\n",
      "\n",
      "OpenCL kernel profiling statistics in milliseconds for: OCL_CSR_Integrator\n",
      "                                       Kernel name (count):      min   median      max     mean      std\n",
      "                               copy raw D->D image (  811):    0.483    0.494    0.850    0.497    0.018\n",
      "                              convert u32_to_float (  811):    0.503    0.508    1.367    0.516    0.051\n",
      "                                         memset_ng (  811):    0.005    0.006    0.303    0.007    0.016\n",
      "                                      corrections4 (  811):    1.523    1.554    3.177    1.641    0.219\n",
      "                                    csr_integrate4 (  811):    1.771    1.789    2.785    1.865    0.159\n",
      "                                  copy D->H avgint (  811):    0.002    0.002    0.002    0.002    0.000\n",
      "                                     copy D->H std (  811):    0.002    0.002    0.002    0.002    0.000\n",
      "                                     copy D->H sem (  811):    0.002    0.002    0.005    0.002    0.000\n",
      "                                 copy D->H merged8 (  811):    0.003    0.003    0.006    0.004    0.000\n",
      "________________________________________________________________________________\n",
      "                       Total OpenCL execution time        : 3677.838ms\n",
      "**************************************************\n",
      "\n",
      "Workgroup_size: 128 4.76 ms ± 117 µs per loop (mean ± std. dev. of 7 runs, 100 loops each)\n",
      "\n",
      "OpenCL kernel profiling statistics in milliseconds for: OCL_CSR_Integrator\n",
      "                                       Kernel name (count):      min   median      max     mean      std\n",
      "                               copy raw D->D image (  811):    0.483    0.494    0.581    0.498    0.014\n",
      "                              convert u32_to_float (  811):    0.488    0.497    1.005    0.510    0.066\n",
      "                                         memset_ng (  811):    0.005    0.006    0.344    0.008    0.020\n",
      "                                      corrections4 (  811):    1.521    1.550    2.835    1.663    0.237\n",
      "                                    csr_integrate4 (  811):    1.760    1.777    2.801    1.890    0.221\n",
      "                                  copy D->H avgint (  811):    0.002    0.002    0.002    0.002    0.000\n",
      "                                     copy D->H std (  811):    0.002    0.002    0.002    0.002    0.000\n",
      "                                     copy D->H sem (  811):    0.002    0.002    0.002    0.002    0.000\n",
      "                                 copy D->H merged8 (  811):    0.003    0.003    0.004    0.004    0.000\n",
      "________________________________________________________________________________\n",
      "                       Total OpenCL execution time        : 3711.453ms\n",
      "**************************************************\n",
      "\n",
      "Workgroup_size: 256 4.73 ms ± 100 µs per loop (mean ± std. dev. of 7 runs, 100 loops each)\n",
      "\n",
      "OpenCL kernel profiling statistics in milliseconds for: OCL_CSR_Integrator\n",
      "                                       Kernel name (count):      min   median      max     mean      std\n",
      "                               copy raw D->D image (  811):    0.484    0.494    0.573    0.497    0.013\n",
      "                              convert u32_to_float (  811):    0.488    0.498    0.866    0.504    0.041\n",
      "                                         memset_ng (  811):    0.005    0.006    0.309    0.008    0.025\n",
      "                                      corrections4 (  811):    1.519    1.554    3.114    1.635    0.216\n",
      "                                    csr_integrate4 (  811):    1.790    1.810    3.429    1.902    0.212\n",
      "                                  copy D->H avgint (  811):    0.002    0.002    0.002    0.002    0.000\n",
      "                                     copy D->H std (  811):    0.002    0.002    0.002    0.002    0.000\n",
      "                                     copy D->H sem (  811):    0.002    0.002    0.003    0.002    0.000\n",
      "                                 copy D->H merged8 (  811):    0.003    0.003    0.005    0.004    0.000\n",
      "________________________________________________________________________________\n",
      "                       Total OpenCL execution time        : 3694.056ms\n",
      "**************************************************\n",
      "\n",
      "Workgroup_size: 512 4.99 ms ± 168 µs per loop (mean ± std. dev. of 7 runs, 100 loops each)\n",
      "\n",
      "OpenCL kernel profiling statistics in milliseconds for: OCL_CSR_Integrator\n",
      "                                       Kernel name (count):      min   median      max     mean      std\n",
      "                               copy raw D->D image (  811):    0.483    0.494    0.853    0.498    0.019\n",
      "                              convert u32_to_float (  811):    0.489    0.497    0.991    0.506    0.051\n",
      "                                         memset_ng (  811):    0.006    0.006    0.486    0.008    0.024\n",
      "                                      corrections4 (  811):    1.520    1.553    3.306    1.665    0.245\n",
      "                                    csr_integrate4 (  811):    1.949    1.974    3.524    2.114    0.276\n",
      "                                  copy D->H avgint (  811):    0.002    0.002    0.002    0.002    0.000\n",
      "                                     copy D->H std (  811):    0.002    0.002    0.002    0.002    0.000\n",
      "                                     copy D->H sem (  811):    0.002    0.002    0.002    0.002    0.000\n",
      "                                 copy D->H merged8 (  811):    0.003    0.003    0.005    0.004    0.000\n",
      "________________________________________________________________________________\n",
      "                       Total OpenCL execution time        : 3892.970ms\n",
      "**************************************************\n",
      "\n",
      "Workgroup_size: 1024 6.11 ms ± 170 µs per loop (mean ± std. dev. of 7 runs, 100 loops each)\n",
      "\n",
      "OpenCL kernel profiling statistics in milliseconds for: OCL_CSR_Integrator\n",
      "                                       Kernel name (count):      min   median      max     mean      std\n",
      "                               copy raw D->D image (  811):    0.484    0.494    0.572    0.497    0.012\n",
      "                              convert u32_to_float (  811):    0.498    0.506    0.984    0.517    0.056\n",
      "                                         memset_ng (  811):    0.006    0.006    0.300    0.007    0.013\n",
      "                                      corrections4 (  811):    1.526    1.558    2.613    1.666    0.233\n",
      "                                    csr_integrate4 (  811):    2.950    3.044    4.449    3.225    0.321\n",
      "                                  copy D->H avgint (  811):    0.002    0.002    0.002    0.002    0.000\n",
      "                                     copy D->H std (  811):    0.002    0.002    0.002    0.002    0.000\n",
      "                                     copy D->H sem (  811):    0.002    0.002    0.002    0.002    0.000\n",
      "                                 copy D->H merged8 (  811):    0.003    0.003    0.005    0.004    0.000\n",
      "________________________________________________________________________________\n",
      "                       Total OpenCL execution time        : 4801.568ms\n",
      "**************************************************\n"
     ]
    }
   ],
   "source": [
    "# Profiling the engine with various workgroup sizes:\n",
    "wg=32\n",
    "wg_max = 1024\n",
    "res0 = ai.integrate1d(frame, nbins, method=(\"full\", \"csr\", \"opencl\", target))\n",
    "engine = ai.engines[res0.method].engine\n",
    "omega_crc = engine.on_device[\"solidangle\"]\n",
    "engine.reset_log()\n",
    "engine.set_profiling(True)\n",
    "\n",
    "while wg<=wg_max:\n",
    "    print(f\"\\nWorkgroup_size: {wg} \", end=\"\")\n",
    "    %timeit engine.integrate_ng(frame_d, solidangle=omega, solidangle_checksum=omega_crc, workgroup_size=wg)\n",
    "    print(\"\\n\".join(engine.log_profile(stats=True)))\n",
    "    print(\"*\"*50)\n",
    "    engine.reset_log()\n",
    "    wg*=2\n",
    "\n",
    "engine.set_profiling(False)"
   ]
  },
  {
   "cell_type": "markdown",
   "id": "23f8dfd8-f55c-4148-b783-f238081ba0af",
   "metadata": {},
   "source": [
    "**Note:** \n",
    "\n",
    "* A large fraction of the time is spent in the transfer from the CPU to the GPU.\n",
    "* Different kernels see different minimum execution time depending on their structure. For this Nvidia GTX 750Ti GPU one observes:\n",
    "\n",
    "  - simple conversion kernel are best used with larger workgroup size (256)\n",
    "  - CSR sparse matrix multiplication is best used with a very medium workgroup size (128)\n",
    "  - correction is best used with 256 threads per workgroup (with little variability).\n",
    "\n",
    "Those results also vary from device to device and between drivers !"
   ]
  },
  {
   "cell_type": "code",
   "execution_count": 14,
   "id": "c5909083-8ad1-4863-996c-8f92f684547e",
   "metadata": {},
   "outputs": [
    {
     "name": "stdout",
     "output_type": "stream",
     "text": [
      "4.62 ms ± 153 µs per loop (mean ± std. dev. of 7 runs, 100 loops each)\n",
      "Workgroup size optimization allowed to gain: 5.3%\n"
     ]
    }
   ],
   "source": [
    "#tune the different workgroup sizes:\n",
    "engine.workgroup_size[\"csr_integrate4\"] = (128, 128)\n",
    "engine.workgroup_size[\"corrections4\"] = (256, 256)\n",
    "engine.workgroup_size[\"s32_to_float\"] = (256, 256)\n",
    "engine.workgroup_size[\"u8_to_float\"] = (256, 256)\n",
    "engine.workgroup_size[\"s16_to_float\"] = (256, 256)\n",
    "engine.workgroup_size[\"s8_to_float\"] = (256, 256)\n",
    "engine.workgroup_size[\"u32_to_float\"] = (256, 256)\n",
    "engine.workgroup_size[\"u16_to_float\"] = (256, 256)\n",
    "tai_after = %timeit -o engine.integrate_ng(frame_d, solidangle=omega, solidangle_checksum=omega_crc)\n",
    "print(f\"Workgroup size optimization allowed to gain: {(tai_before.average-tai_after.average)/tai_before.average*100:.1f}%\")"
   ]
  },
  {
   "cell_type": "markdown",
   "id": "27597f4a-725c-4f72-889c-26bd6a7c358b",
   "metadata": {},
   "source": [
    "## Preparation of some HDF5 file:\n",
    "\n",
    "* with many frames in them, \n",
    "* compressed in Bitshuffle-LZ4,\n",
    "* each chunk being one frame."
   ]
  },
  {
   "cell_type": "code",
   "execution_count": 15,
   "id": "4716f9cb-de3d-44cf-979e-12b442cceb8b",
   "metadata": {},
   "outputs": [
    {
     "data": {
      "text/plain": [
       "<TimeitResult : 1min 6s ± 0 ns per loop (mean ± std. dev. of 1 run, 1 loop each)>"
      ]
     },
     "execution_count": 15,
     "metadata": {},
     "output_type": "execute_result"
    }
   ],
   "source": [
    "%%timeit -r1 -n1 -o -q\n",
    "#Saving of a HDF5 file with many frames ...\n",
    "with h5py.File(filename, \"w\") as h:\n",
    "    ds = h.create_dataset(\"data\", shape=(nbframes,)+shape, chunks=(1,)+shape, dtype=dtype, **cmp) \n",
    "    for i in range(nbframes):\n",
    "        ds[i] = frame + i%500 #Each frame has a different value to prevent caching effects"
   ]
  },
  {
   "cell_type": "code",
   "execution_count": 16,
   "id": "918ce131-3486-4263-8584-c78c8c2b88d8",
   "metadata": {},
   "outputs": [
    {
     "name": "stdout",
     "output_type": "stream",
     "text": [
      "File size 9.240 GB with a compression ratio of 7.407x\n",
      "Write speed: 1097.907 MB/s of uncompressed data, or 61.189 fps.\n"
     ]
    }
   ],
   "source": [
    "timing_write = _\n",
    "size=os.stat(filename).st_size\n",
    "print(f\"File size {size/(1024**3):.3f} GB with a compression ratio of {nbframes*numpy.prod(shape)*dtype.itemsize/size:.3f}x\")\n",
    "print(f\"Write speed: {nbframes*numpy.prod(shape)*dtype.itemsize/(1e6*timing_write.best):.3f} MB/s of uncompressed data, or {nbframes/timing_write.best:.3f} fps.\")"
   ]
  },
  {
   "cell_type": "code",
   "execution_count": 17,
   "id": "e559f3a9-4890-47ef-959d-6f0b099963c9",
   "metadata": {},
   "outputs": [
    {
     "data": {
      "text/plain": [
       "<TimeitResult : 43.8 s ± 0 ns per loop (mean ± std. dev. of 1 run, 1 loop each)>"
      ]
     },
     "execution_count": 17,
     "metadata": {},
     "output_type": "execute_result"
    }
   ],
   "source": [
    "%%timeit -r1 -n1 -o -q\n",
    "#Reading all frames and decompressing them\n",
    "buffer = numpy.zeros(shape, dtype=dtype)\n",
    "with h5py.File(filename, \"r\") as h:\n",
    "    ds = h[\"data\"]\n",
    "    for i in range(nbframes):\n",
    "        ds.read_direct(buffer, numpy.s_[i,:,:], numpy.s_[:,:])"
   ]
  },
  {
   "cell_type": "code",
   "execution_count": 18,
   "id": "3f6a4b10-8fe5-4450-8272-4a98b7a22de4",
   "metadata": {},
   "outputs": [
    {
     "name": "stdout",
     "output_type": "stream",
     "text": [
      "Read speed: 1677.721 MB/s of uncompressed data, or 93.504 fps.\n"
     ]
    }
   ],
   "source": [
    "timing_read1 = _\n",
    "print(f\"Read speed: {nbframes*numpy.prod(shape)*dtype.itemsize/(1e6*timing_read1.best):.3f} MB/s of uncompressed data, or {nbframes/timing_read1.best:.3f} fps.\")"
   ]
  },
  {
   "cell_type": "code",
   "execution_count": 19,
   "id": "557956b5-5eec-44ea-8f13-0d76c6d88200",
   "metadata": {},
   "outputs": [
    {
     "name": "stdout",
     "output_type": "stream",
     "text": [
      "Compression ratio: 9.099x\n",
      "12.3 ms ± 20 µs per loop (mean ± std. dev. of 7 runs, 100 loops each)\n",
      "Decompression speed: 81.203 fps\n"
     ]
    }
   ],
   "source": [
    "# Time for decompressing one frame:\n",
    "chunk = bitshuffle.compress_lz4(frame,0)\n",
    "print(f\"Compression ratio: {frame.nbytes/len(chunk):.3f}x\")\n",
    "timing_decompress = %timeit -o bitshuffle.decompress_lz4(chunk, frame.shape, frame.dtype, 0)\n",
    "print(f\"Decompression speed: {1/timing_decompress.best:.3f} fps\")"
   ]
  },
  {
   "cell_type": "code",
   "execution_count": 20,
   "id": "9727f861-eeec-4ec6-8c8c-57e99618474a",
   "metadata": {},
   "outputs": [
    {
     "data": {
      "text/plain": [
       "<TimeitResult : 1.96 s ± 0 ns per loop (mean ± std. dev. of 1 run, 1 loop each)>"
      ]
     },
     "execution_count": 20,
     "metadata": {},
     "output_type": "execute_result"
    }
   ],
   "source": [
    "%%timeit -r1 -n1 -o -q\n",
    "#Reading all frames without decompressing them\n",
    "with h5py.File(filename, \"r\") as h:\n",
    "    ds = h[\"data\"]\n",
    "    for i in range(ds.id.get_num_chunks()):\n",
    "        filter_mask, chunk = ds.id.read_direct_chunk(ds.id.get_chunk_info(i).chunk_offset)"
   ]
  },
  {
   "cell_type": "code",
   "execution_count": 21,
   "id": "a8f957e5-f3cc-41a4-9502-dc98f5e31dd7",
   "metadata": {},
   "outputs": [
    {
     "name": "stdout",
     "output_type": "stream",
     "text": [
      "Read speed: 5051.133 MB/s of compressed data.\n",
      "HDF5 read speed (without decompression): 2085.244 fps.\n"
     ]
    }
   ],
   "source": [
    "timing_read2 = _\n",
    "print(f\"Read speed: {size/(1e6*timing_read2.best):.3f} MB/s of compressed data.\")\n",
    "print(f\"HDF5 read speed (without decompression): {nbframes/timing_read2.best:.3f} fps.\")"
   ]
  },
  {
   "cell_type": "code",
   "execution_count": 22,
   "id": "7d75885a-0313-47fb-95e3-667448cdd658",
   "metadata": {},
   "outputs": [
    {
     "name": "stdout",
     "output_type": "stream",
     "text": [
      "The maximum throughput considering reading, decompression and integration is 53.852 fps.\n"
     ]
    }
   ],
   "source": [
    "timimg_sum = timing_integration.best + timing_read2.best/nbframes+timing_decompress.best\n",
    "print(f\"The maximum throughput considering reading, decompression and integration is {1/timimg_sum:.3f} fps.\")"
   ]
  },
  {
   "cell_type": "markdown",
   "id": "296b9c59-a957-4e75-ac29-808fc4c4a952",
   "metadata": {},
   "source": [
    "**Summary:**\n",
    "\n",
    "* Read speed: 2100 fps\n",
    "* Read + decompress: 93 fps\n",
    "* Read + decomperss + integrate: 55 fps.\n",
    "\n",
    "## Decompression on the GPU\n",
    "\n",
    "Decompression of the GPU has 3 main advantages:\n",
    "\n",
    "* Transfer less data from the the host to the device since it is compressed\n",
    "* Inflated data on the device remain on the device, thus \n",
    "* Most of the decompression algorithm is performed in parallel and exploits the GPU efficiently\n",
    "\n",
    "There is one part of the decompression which remains serial, the part searching for the begining of each of the compressed blocks.\n",
    "\n",
    "**Nota:** This feature requires silx 1.2 !"
   ]
  },
  {
   "cell_type": "code",
   "execution_count": 23,
   "id": "5f9f2220-0931-497f-b5df-993341202c0e",
   "metadata": {},
   "outputs": [],
   "source": [
    "# Read one chunk\n",
    "with h5py.File(filename, \"r\") as h:\n",
    "    ds = h[\"data\"]\n",
    "    i=0\n",
    "    filter_mask, chunk = ds.id.read_direct_chunk(ds.id.get_chunk_info(i).chunk_offset)"
   ]
  },
  {
   "cell_type": "code",
   "execution_count": 24,
   "id": "c1fea01a-beaa-4727-9147-59cef1d4dd0b",
   "metadata": {},
   "outputs": [],
   "source": [
    "gpu_decompressor = BitshuffleLz4(len(chunk), frame.size, dtype=frame.dtype, ctx=engine.ctx)"
   ]
  },
  {
   "cell_type": "code",
   "execution_count": 25,
   "id": "06356a14-9ba5-4d72-b0c4-652626c46de5",
   "metadata": {},
   "outputs": [
    {
     "name": "stdout",
     "output_type": "stream",
     "text": [
      "Workgroup size  32 :  16.8 ms ± 19 µs per loop (mean ± std. dev. of 7 runs, 100 loops each)\n",
      "\n",
      "OpenCL kernel profiling statistics in milliseconds for: BitshuffleLz4\n",
      "                                       Kernel name (count):      min   median      max     mean      std\n",
      "                                   copy raw H -> D (  811):    0.155    0.156    0.189    0.156    0.003\n",
      "                                       LZ4 unblock (  811):    0.490    0.493    0.875    0.520    0.084\n",
      "                                    LZ4 decompress (  811):   15.474   15.839   18.670   16.078    0.569\n",
      "________________________________________________________________________________\n",
      "                       Total OpenCL execution time        : 13587.153ms\n",
      "Workgroup size  64 :  10 ms ± 176 µs per loop (mean ± std. dev. of 7 runs, 100 loops each)\n",
      "\n",
      "OpenCL kernel profiling statistics in milliseconds for: BitshuffleLz4\n",
      "                                       Kernel name (count):      min   median      max     mean      std\n",
      "                                   copy raw H -> D (  811):    0.155    0.156    0.197    0.157    0.005\n",
      "                                       LZ4 unblock (  811):    0.490    0.492    0.807    0.517    0.079\n",
      "                                    LZ4 decompress (  811):    8.836    9.166   11.500    9.175    0.395\n",
      "________________________________________________________________________________\n",
      "                       Total OpenCL execution time        : 7987.470ms\n",
      "Workgroup size 128 :  6.65 ms ± 94.2 µs per loop (mean ± std. dev. of 7 runs, 100 loops each)\n",
      "\n",
      "OpenCL kernel profiling statistics in milliseconds for: BitshuffleLz4\n",
      "                                       Kernel name (count):      min   median      max     mean      std\n",
      "                                   copy raw H -> D (  811):    0.155    0.156    0.238    0.157    0.005\n",
      "                                       LZ4 unblock (  811):    0.490    0.492    0.806    0.515    0.074\n",
      "                                    LZ4 decompress (  811):    5.565    5.582    7.712    5.797    0.367\n",
      "________________________________________________________________________________\n",
      "                       Total OpenCL execution time        : 5246.455ms\n",
      "Workgroup size 256 :  6.17 ms ± 236 µs per loop (mean ± std. dev. of 7 runs, 100 loops each)\n",
      "\n",
      "OpenCL kernel profiling statistics in milliseconds for: BitshuffleLz4\n",
      "                                       Kernel name (count):      min   median      max     mean      std\n",
      "                                   copy raw H -> D (  811):    0.155    0.156    0.245    0.157    0.005\n",
      "                                       LZ4 unblock (  811):    0.490    0.493    0.806    0.521    0.086\n",
      "                                    LZ4 decompress (  811):    4.910    5.195    7.088    5.277    0.489\n",
      "________________________________________________________________________________\n",
      "                       Total OpenCL execution time        : 4829.752ms\n",
      "Workgroup size 512 :  7.61 ms ± 161 µs per loop (mean ± std. dev. of 7 runs, 100 loops each)\n",
      "\n",
      "OpenCL kernel profiling statistics in milliseconds for: BitshuffleLz4\n",
      "                                       Kernel name (count):      min   median      max     mean      std\n",
      "                                   copy raw H -> D (  811):    0.155    0.156    0.189    0.157    0.004\n",
      "                                       LZ4 unblock (  811):    0.490    0.492    0.806    0.513    0.073\n",
      "                                    LZ4 decompress (  811):    6.492    6.510    9.394    6.772    0.458\n",
      "________________________________________________________________________________\n",
      "                       Total OpenCL execution time        : 6035.282ms\n",
      "Workgroup size 1024 :  11.5 ms ± 203 µs per loop (mean ± std. dev. of 7 runs, 100 loops each)\n",
      "\n",
      "OpenCL kernel profiling statistics in milliseconds for: BitshuffleLz4\n",
      "                                       Kernel name (count):      min   median      max     mean      std\n",
      "                                   copy raw H -> D (  811):    0.155    0.156    0.280    0.157    0.006\n",
      "                                       LZ4 unblock (  811):    0.490    0.493    0.807    0.524    0.090\n",
      "                                    LZ4 decompress (  811):   10.038   10.366   12.878   10.584    0.591\n",
      "________________________________________________________________________________\n",
      "                       Total OpenCL execution time        : 9135.773ms\n"
     ]
    }
   ],
   "source": [
    "#Tune the decompressor for the fastest speed:\n",
    "wg = 32\n",
    "wg_max=1024\n",
    "gpu_decompressor.set_profiling(True)\n",
    "while wg<=wg_max:\n",
    "    print(f\"Workgroup size {wg:3d} : \", end=\" \")\n",
    "    %timeit gpu_decompressor.decompress(chunk, wg=wg); gpu_decompressor.queue.finish()\n",
    "    print(\"\\n\".join(gpu_decompressor.log_profile(stats=True)))\n",
    "    gpu_decompressor.reset_log()\n",
    "    wg*=2\n",
    "    \n",
    "gpu_decompressor.set_profiling(False)"
   ]
  },
  {
   "cell_type": "code",
   "execution_count": 26,
   "id": "f014a129-0a8d-485a-9fc8-5b91cb08bd00",
   "metadata": {},
   "outputs": [],
   "source": [
    "#Set the workgroup size (called block in cuda) to the best value we found previoulsy\n",
    "gpu_decompressor.block_size = 256 "
   ]
  },
  {
   "cell_type": "markdown",
   "id": "be82dd1e-259b-4001-abfe-a10965059133",
   "metadata": {},
   "source": [
    "## Assemble optimized OpenCL blocks and integrate all frames from a HDF5-file"
   ]
  },
  {
   "cell_type": "code",
   "execution_count": 27,
   "id": "cfcc3806-a5f9-4451-b0d9-1fa2c6c3fbe4",
   "metadata": {},
   "outputs": [
    {
     "name": "stdout",
     "output_type": "stream",
     "text": [
      "10.5 ms ± 110 µs per loop (mean ± std. dev. of 7 runs, 100 loops each)\n"
     ]
    }
   ],
   "source": [
    "#Build a pipeline with decompression and integration on the GPU:\n",
    "%timeit engine.integrate_ng(gpu_decompressor(chunk), solidangle=omega, solidangle_checksum=omega_crc)"
   ]
  },
  {
   "cell_type": "code",
   "execution_count": 28,
   "id": "d2b3a31a-62ef-4a2a-8ed8-6deedc3893ca",
   "metadata": {},
   "outputs": [],
   "source": [
    "result = numpy.empty((nbframes, nbins), dtype=numpy.float32)"
   ]
  },
  {
   "cell_type": "code",
   "execution_count": 29,
   "id": "d187fb05-c447-49ba-9ce8-ce3e3aae63b2",
   "metadata": {},
   "outputs": [
    {
     "data": {
      "text/plain": [
       "<TimeitResult : 48.6 s ± 0 ns per loop (mean ± std. dev. of 1 run, 1 loop each)>"
      ]
     },
     "execution_count": 29,
     "metadata": {},
     "output_type": "execute_result"
    }
   ],
   "source": [
    "%%timeit -r1 -n1 -o -q\n",
    "# Process a complete stack:\n",
    "with h5py.File(filename, \"r\") as h:\n",
    "    ds = h[\"data\"]\n",
    "    for i in range(ds.id.get_num_chunks()):\n",
    "        filter_mask, chunk = ds.id.read_direct_chunk(ds.id.get_chunk_info(i).chunk_offset)\n",
    "        result[i] = engine.integrate_ng(gpu_decompressor(chunk), solidangle=omega, solidangle_checksum=omega_crc).intensity"
   ]
  },
  {
   "cell_type": "code",
   "execution_count": 30,
   "id": "e4033694-9cd1-4aae-b388-cadbf478363a",
   "metadata": {},
   "outputs": [
    {
     "name": "stdout",
     "output_type": "stream",
     "text": [
      "Processing speed when decompression occures on GPU: 84.226 fps which represents at speed-up of 1.564x.\n"
     ]
    }
   ],
   "source": [
    "timing_process_gpu = _\n",
    "print(f\"Processing speed when decompression occures on GPU: {nbframes/timing_process_gpu.best:.3f} fps which represents at speed-up of {timimg_sum*nbframes/timing_process_gpu.best:.3f}x.\")"
   ]
  },
  {
   "cell_type": "markdown",
   "id": "89f85542-5088-4469-abb2-06cde677fdda",
   "metadata": {},
   "source": [
    "## Display some results\n",
    "Since the input data were all synthetic and similar, no great science is expected from this... but one can ensure each frame differs slightly from the neighbors with a pattern of 500 frames. "
   ]
  },
  {
   "cell_type": "code",
   "execution_count": 31,
   "id": "8650407f-a6ce-40ac-875e-f4f0f0c07a0d",
   "metadata": {},
   "outputs": [
    {
     "data": {
      "text/plain": [
       "<matplotlib.image.AxesImage at 0x7f52157a0850>"
      ]
     },
     "execution_count": 31,
     "metadata": {},
     "output_type": "execute_result"
    },
    {
     "data": {
      "image/png": "[encoded data removed]",
      "text/plain": [
       "<Figure size 576x576 with 1 Axes>"
      ]
     },
     "metadata": {
      "needs_background": "light"
     },
     "output_type": "display_data"
    }
   ],
   "source": [
    "fig,ax = subplots(figsize=(8,8))\n",
    "ax.imshow(result)"
   ]
  },
  {
   "cell_type": "markdown",
   "id": "5013c60f-f973-405a-8f6f-9b8dd448a3d6",
   "metadata": {},
   "source": [
    "## Conclusion\n",
    "\n",
    "Reading Bitshuffle-LZ4 data can be off-loaded to the GPU, this is especially appealing when downstream processing requires also GPU-computing llike azimuthal integration. \n",
    "\n",
    "The procedure is simpler than the multi-threading approach: no queue, no threads, ... but requires a GPU.\n",
    "\n",
    "The performances obtained on a (not so recent Tesla V100) is similar to a much more recent 2x32-cores computer: ~500 fps\n",
    "\n",
    "Those performances can be further parallelized using multiprocessing."
   ]
  },
  {
   "cell_type": "code",
   "execution_count": 32,
   "id": "cc6f2236-c77e-4add-adf6-4d0929bb5b46",
   "metadata": {},
   "outputs": [
    {
     "name": "stdout",
     "output_type": "stream",
     "text": [
      "Total processing time: 1032.464 s\n"
     ]
    }
   ],
   "source": [
    "print(f\"Total processing time: {time.time()-start_time:.3f} s\")"
   ]
  },
  {
   "cell_type": "code",
   "execution_count": null,
   "id": "a5eacab9-ebab-4cc1-a2a9-898676657979",
   "metadata": {},
   "outputs": [],
   "source": []
  }
 ],
 "metadata": {
  "kernelspec": {
   "display_name": "Python 3.9 (local venv)",
   "language": "python",
   "name": "py39-venv"
  },
  "language_info": {
   "codemirror_mode": {
    "name": "ipython",
    "version": 3
   },
   "file_extension": ".py",
   "mimetype": "text/x-python",
   "name": "python",
   "nbconvert_exporter": "python",
   "pygments_lexer": "ipython3",
   "version": "3.9.2"
  }
 },
 "nbformat": 4,
 "nbformat_minor": 5
}
